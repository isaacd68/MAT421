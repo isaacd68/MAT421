{
  "nbformat": 4,
  "nbformat_minor": 0,
  "metadata": {
    "colab": {
      "name": "19.1-19.5.ipynb",
      "provenance": [],
      "authorship_tag": "ABX9TyNWNaGEUpjK31TqnOoqQctK",
      "include_colab_link": true
    },
    "kernelspec": {
      "name": "python3",
      "display_name": "Python 3"
    },
    "language_info": {
      "name": "python"
    }
  },
  "cells": [
    {
      "cell_type": "markdown",
      "metadata": {
        "id": "view-in-github",
        "colab_type": "text"
      },
      "source": [
        "<a href=\"https://colab.research.google.com/github/isaacd68/MAT421/blob/main/19_1_19_5.ipynb\" target=\"_parent\"><img src=\"https://colab.research.google.com/assets/colab-badge.svg\" alt=\"Open In Colab\"/></a>"
      ]
    },
    {
      "cell_type": "markdown",
      "source": [
        "# Root Finding"
      ],
      "metadata": {
        "id": "mrqfr0sX85CP"
      }
    },
    {
      "cell_type": "markdown",
      "source": [
        "# Problem statement\n",
        "\n",
        "The root or zero of a function, $f(x)$, is an $x_r$ such that $f(x_r)=0$. For functions such as $f(x)=x^2−9$, the roots are clearly 3 and −3. However, for other functions such as $f(x)=cos(x)−x$, determining an analytic, or exact, solution for the roots of functions can be difficult. For these cases, it is useful to generate numerical approximations of the roots of f and understand the limitations in doing so."
      ],
      "metadata": {
        "id": "gQ-U0N72_vZa"
      }
    },
    {
      "cell_type": "markdown",
      "source": [
        "Equations are the root of Data Science. It turns the data into actionable information by developing mathematical expressions. In mathematics the solutions of an equation are named as roots. The roots can be either in symbolic(3/5,(√2/3),…) or numeric(2.5,8.9,1.0,10, …). For numeric we use the fsolve package form Scientific Python(SciPy) and for symbolic we use sympy package(the son of numpy)."
      ],
      "metadata": {
        "id": "oJB_zik8828d"
      }
    },
    {
      "cell_type": "code",
      "execution_count": 4,
      "metadata": {
        "colab": {
          "base_uri": "https://localhost:8080/"
        },
        "id": "YoidzRWP8P3Q",
        "outputId": "ddd366f2-2322-4229-ef2f-c1e4368fb614"
      },
      "outputs": [
        {
          "output_type": "stream",
          "name": "stdout",
          "text": [
            "Final Objective: 18.36030810607834\n",
            "The required solution is\n",
            "x1 = 1.0\n",
            "x2 = 4.9999999999875975\n",
            "x3 = 4.126010388073847\n",
            "x4 = 1.4057162863260257\n"
          ]
        }
      ],
      "source": [
        "import numpy as np\n",
        "from scipy.optimize import minimize\n",
        "\n",
        "def objective(x):\n",
        "    return x[0]*x[3]*(x[0]+x[1]+x[2])+x[2]\n",
        "\n",
        "def constraint1(x):\n",
        "    return x[0]*x[1]*x[2]*x[3]-29.0\n",
        "\n",
        "def constraint2(x):\n",
        "    sum_eq = 45.0\n",
        "    for i in range(4):\n",
        "        sum_eq = sum_eq - x[i]**2\n",
        "    return sum_eq\n",
        "\n",
        "# Storing the initial guesses\n",
        "n = 4\n",
        "x0 = np.zeros(n)\n",
        "x0[0] = 1.0\n",
        "x0[1] = 3.0\n",
        "x0[2] = 5.0\n",
        "x0[3] = 3.0\n",
        "\n",
        "# optimize\n",
        "b = (1.0,5.0)\n",
        "bnds = (b, b, b, b)\n",
        "constant1 = {'type': 'ineq', 'fun': constraint1} \n",
        "constant2 = {'type': 'eq', 'fun': constraint2}\n",
        "constant = ([constant1,constant2])\n",
        "solution = minimize(objective,x0,method='SLSQP',\\\n",
        "                    bounds=bnds,constraints=constant)\n",
        "x = solution.x\n",
        "\n",
        "# Final Minimum Value\n",
        "print('Final Objective: ' + str(objective(x)))\n",
        "\n",
        "# printing the final solution\n",
        "print('The required solution is')\n",
        "print('x1 = ' + str(x[0]))\n",
        "print('x2 = ' + str(x[1]))\n",
        "print('x3 = ' + str(x[2]))\n",
        "print('x4 = ' + str(x[3]))"
      ]
    },
    {
      "cell_type": "markdown",
      "source": [
        "# Tolerance"
      ],
      "metadata": {
        "id": "g3obWeJj9XF3"
      }
    },
    {
      "cell_type": "markdown",
      "source": [
        "The Python math.isclose() function returns True if the values a and b are close to each other and False otherwise. The two values are considered close using absolute and relative tolerances.\n",
        "\n",
        "rel_tol is the relative tolerance and it is maximum allowed difference between a and b, relative to the larger absolute value of a or b. For example - to set tolerance of 1%, rel_tol = 0.01 can be used. The default value of rel_tol is 1e-09. rel_tol must be greater than zero.\n",
        "\n",
        "abs_tol is the minimum absolute tolerance. It is used to compare values near 0. The value must be at least 0. The default value of abs_tol is 0.0.\n",
        "\n",
        "The result is compared using following formula: abs(a-b) <= max(rel_tol * max(abs(a), abs(b)), abs_tol).\n",
        "\n",
        "NaN, inf, and -inf is handled according to IEEE rules. NaN is not considered close to any other value, including NaN. inf and -inf are considered close to each other."
      ],
      "metadata": {
        "id": "fyK2hp9z9Wym"
      }
    },
    {
      "cell_type": "code",
      "source": [
        "import math\n",
        "\n",
        "print(math.isclose(100, 104))\n",
        "print(math.isclose(100, 104, rel_tol = 0.05))\n",
        "print(math.isclose(100, 100.0000000001))\n",
        "print(math.isclose(100, 101, abs_tol = 2))"
      ],
      "metadata": {
        "colab": {
          "base_uri": "https://localhost:8080/"
        },
        "id": "VrImGq9L9Veh",
        "outputId": "0bb7ac94-2095-43f0-c80a-1b570246902d"
      },
      "execution_count": 5,
      "outputs": [
        {
          "output_type": "stream",
          "name": "stdout",
          "text": [
            "False\n",
            "True\n",
            "True\n",
            "True\n"
          ]
        }
      ]
    },
    {
      "cell_type": "markdown",
      "source": [
        "# Bisection Method"
      ],
      "metadata": {
        "id": "jLif_GdW9fLD"
      }
    },
    {
      "cell_type": "markdown",
      "source": [
        "Write a function called bisection which takes 4 input parameters f, a, b and N and returns the approximation of a solution of $f(x)=0$ given by $N$ iterations of the bisection method. If $f(a_n)f(b_n)\\geq 0$ at any point in the iteration (caused either by a bad initial interval or rounding error in computations), then print \"Bisection method fails.\" and return None."
      ],
      "metadata": {
        "id": "wqh_lH4e9fF5"
      }
    },
    {
      "cell_type": "code",
      "source": [
        "def bisection(f,a,b,N):\n",
        "    '''Approximate solution of f(x)=0 on interval [a,b] by bisection method.\n",
        "\n",
        "    Parameters\n",
        "    ----------\n",
        "    f : function\n",
        "        The function for which we are trying to approximate a solution f(x)=0.\n",
        "    a,b : numbers\n",
        "        The interval in which to search for a solution. The function returns\n",
        "        None if f(a)*f(b) >= 0 since a solution is not guaranteed.\n",
        "    N : (positive) integer\n",
        "        The number of iterations to implement.\n",
        "\n",
        "    Returns\n",
        "    -------\n",
        "    x_N : number\n",
        "        The midpoint of the Nth interval computed by the bisection method. The\n",
        "        initial interval [a_0,b_0] is given by [a,b]. If f(m_n) == 0 for some\n",
        "        midpoint m_n = (a_n + b_n)/2, then the function returns this solution.\n",
        "        If all signs of values f(a_n), f(b_n) and f(m_n) are the same at any\n",
        "        iteration, the bisection method fails and return None.\n",
        "\n",
        "    Examples\n",
        "    --------\n",
        "    >>> f = lambda x: x**2 - x - 1\n",
        "    >>> bisection(f,1,2,25)\n",
        "    1.618033990263939\n",
        "    >>> f = lambda x: (2*x - 1)*(x - 3)\n",
        "    >>> bisection(f,0,1,10)\n",
        "    0.5\n",
        "    '''\n",
        "    if f(a)*f(b) >= 0:\n",
        "        print(\"Bisection method fails.\")\n",
        "        return None\n",
        "    a_n = a\n",
        "    b_n = b\n",
        "    for n in range(1,N+1):\n",
        "        m_n = (a_n + b_n)/2\n",
        "        f_m_n = f(m_n)\n",
        "        if f(a_n)*f_m_n < 0:\n",
        "            a_n = a_n\n",
        "            b_n = m_n\n",
        "        elif f(b_n)*f_m_n < 0:\n",
        "            a_n = m_n\n",
        "            b_n = b_n\n",
        "        elif f_m_n == 0:\n",
        "            print(\"Found exact solution.\")\n",
        "            return m_n\n",
        "        else:\n",
        "            print(\"Bisection method fails.\")\n",
        "            return None\n",
        "    return (a_n + b_n)/2"
      ],
      "metadata": {
        "id": "lpigy1Js9mFI"
      },
      "execution_count": 6,
      "outputs": []
    },
    {
      "cell_type": "markdown",
      "source": [
        "# Newton-Raphson Method"
      ],
      "metadata": {
        "id": "9aU7U-v4-itv"
      }
    },
    {
      "cell_type": "markdown",
      "source": [
        "Advantages of Newton Raphson Method:\n",
        "\n",
        "It is best method to solve the non-linear equations.\n",
        "It can also be used to solve the system of non-linear equations, non-linear differential and non-linear integral equations.\n",
        "The order of convergence is quadric i.e. of second order which makes this method fast as compared to other methods.\n",
        "It is very easy to implement on computer.\n",
        "\n",
        "Disadvantages of Newton Raphson Method:\n",
        "\n",
        "This method becomes complicated if the derivative of the function f(x) is not simple.\n",
        "This method requires a great and sensitive attention regarding the choice of its approximation.\n",
        "In each iteration, we have to evaluate two quantities f(x) and f'(x) for some x.\n",
        "\n",
        "Algorithm: \n",
        "Input: initial x, func(x), derivFunc(x) \n",
        "Output: Root of Func() \n",
        " \n",
        "\n",
        "Compute values of func(x) and derivFunc(x) for given initial x\n",
        "Compute h: h = func(x) / derivFunc(x)\n",
        "While h is greater than allowed error ε \n",
        "h = func(x) / derivFunc(x)\n",
        "x = x – h\n",
        "Below is the implementation of above algorithm. "
      ],
      "metadata": {
        "id": "xh9azq-B-lF9"
      }
    },
    {
      "cell_type": "code",
      "source": [
        "\n",
        "# Python3 code for implementation of Newton\n",
        "# Raphson Method for solving equations\n",
        " \n",
        "# An example function whose solution\n",
        "# is determined using Bisection Method.\n",
        "# The function is x^3 - x^2 + 2\n",
        "def func( x ):\n",
        "    return x * x * x - x * x + 2\n",
        " \n",
        "# Derivative of the above function\n",
        "# which is 3*x^x - 2*x\n",
        "def derivFunc( x ):\n",
        "    return 3 * x * x - 2 * x\n",
        " \n",
        "# Function to find the root\n",
        "def newtonRaphson( x ):\n",
        "    h = func(x) / derivFunc(x)\n",
        "    while abs(h) >= 0.0001:\n",
        "        h = func(x)/derivFunc(x)\n",
        "         \n",
        "        # x(i+1) = x(i) - f(x) / f'(x)\n",
        "        x = x - h\n",
        "     \n",
        "    print(\"The value of the root is : \",\n",
        "                             \"%.4f\"% x)\n",
        " \n",
        "# Driver program to test above\n",
        "x0 = -20 # Initial values assumed\n",
        "newtonRaphson(x0)\n",
        " \n",
        "# This code is contributed by \"Sharad_Bhardwaj\""
      ],
      "metadata": {
        "colab": {
          "base_uri": "https://localhost:8080/"
        },
        "id": "zSiEjKwl-kT1",
        "outputId": "062d73cf-ce0e-4817-b1a0-92fbb32e134d"
      },
      "execution_count": 10,
      "outputs": [
        {
          "output_type": "stream",
          "name": "stdout",
          "text": [
            "The value of the root is :  -1.0000\n"
          ]
        }
      ]
    }
  ]
}