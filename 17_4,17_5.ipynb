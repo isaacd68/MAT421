{
  "nbformat": 4,
  "nbformat_minor": 0,
  "metadata": {
    "colab": {
      "name": "17.4,17.5.ipynb",
      "provenance": [],
      "authorship_tag": "ABX9TyPficODpyPDOEt4U2v7hH03",
      "include_colab_link": true
    },
    "kernelspec": {
      "name": "python3",
      "display_name": "Python 3"
    },
    "language_info": {
      "name": "python"
    }
  },
  "cells": [
    {
      "cell_type": "markdown",
      "metadata": {
        "id": "view-in-github",
        "colab_type": "text"
      },
      "source": [
        "<a href=\"https://colab.research.google.com/github/isaacd68/MAT421/blob/main/17_4%2C17_5.ipynb\" target=\"_parent\"><img src=\"https://colab.research.google.com/assets/colab-badge.svg\" alt=\"Open In Colab\"/></a>"
      ]
    },
    {
      "cell_type": "markdown",
      "source": [
        "# **Lagrange Polynomial Interpolation**"
      ],
      "metadata": {
        "id": "HL9T0SQNWie_"
      }
    },
    {
      "cell_type": "markdown",
      "source": [
        "Enter number of data points: 5\n",
        "\n",
        "Enter data for x and y: \n",
        "\n",
        "x[0]=5\n",
        "\n",
        "y[0]=150\n",
        "\n",
        "x[1]=7\n",
        "\n",
        "y[1]=392\n",
        "\n",
        "x[2]=11\n",
        "\n",
        "y[2]=1452\n",
        "\n",
        "x[3]=13\n",
        "\n",
        "y[3]=2366\n",
        "\n",
        "x[4]=17\n",
        "\n",
        "y[4]=5202\n",
        "\n",
        "Enter interpolation point: 9"
      ],
      "metadata": {
        "id": "X5_srYSyW601"
      }
    },
    {
      "cell_type": "code",
      "execution_count": 1,
      "metadata": {
        "colab": {
          "base_uri": "https://localhost:8080/"
        },
        "id": "OK1ma5_XWd0L",
        "outputId": "94b099a3-49e7-472d-adba-c11b390b14f9"
      },
      "outputs": [
        {
          "output_type": "stream",
          "name": "stdout",
          "text": [
            "Enter number of data points: 5\n",
            "Enter data for x and y: \n",
            "x[0]=5\n",
            "y[0]=150\n",
            "x[1]=7\n",
            "y[1]=392\n",
            "x[2]=11\n",
            "y[2]=1452\n",
            "x[3]=13\n",
            "y[3]=2366\n",
            "x[4]=17\n",
            "y[4]=5202\n",
            "Enter interpolation point: 9\n",
            "Interpolated value at 9.000 is 810.000.\n"
          ]
        }
      ],
      "source": [
        "# Lagrange Interpolation\n",
        "\n",
        "# Importing NumPy Library\n",
        "import numpy as np\n",
        "\n",
        "# Reading number of unknowns\n",
        "n = int(input('Enter number of data points: '))\n",
        "\n",
        "# Making numpy array of n & n x n size and initializing \n",
        "# to zero for storing x and y value along with differences of y\n",
        "x = np.zeros((n))\n",
        "y = np.zeros((n))\n",
        "3\n",
        "\n",
        "# Implementing Lagrange Interpolation\n",
        "for i in range(n):\n",
        "    \n",
        "    p = 1\n",
        "    \n",
        "    for j in range(n):\n",
        "        if i != j:\n",
        "            p = p * (xp - x[j])/(x[i] - x[j])\n",
        "    \n",
        "    yp = yp + p * y[i]    \n",
        "\n",
        "# Displaying output\n",
        "print('Interpolated value at %.3f is %.3f.' % (xp, yp))"
      ]
    },
    {
      "cell_type": "markdown",
      "source": [
        "**Another example**"
      ],
      "metadata": {
        "id": "rJYygDRCX_uY"
      }
    },
    {
      "cell_type": "code",
      "source": [
        "def lagrange_interpolation(x,y,xx):\n",
        "    n = len(x)\n",
        "    sum = 0\n",
        "    for i in range(n):\n",
        "        product = y[i]\n",
        "        for j in range(n):\n",
        "            if i != j:\n",
        "                product = product*(xx - x[j])/(x[i]-x[j])\n",
        "        sum = sum + product\n",
        "    return sum"
      ],
      "metadata": {
        "id": "_38NVbtQYEI6"
      },
      "execution_count": 6,
      "outputs": []
    },
    {
      "cell_type": "code",
      "source": [
        "plt.scatter(x,y)\n",
        "xx = np.linspace(0, 8, 100)\n",
        "yy = [lagrange_interpolation(x,y,i) for i in xx]\n",
        "xo= np.linspace(0.01,8,200)\n",
        "plt.plot(xo, np.log(xo), label=\"f(x)=lnx\", color=\"black\")\n",
        "plt.grid(True, which='both')\n",
        "plt.axvline(x=0, color='k')\n",
        "plt.axhline(y=0, color='k')\n",
        "plt.plot(xx,yy)\n",
        "fig = plt.figure()\n",
        "for i in range(1,len(x)):\n",
        "    g1 = fig.add_subplot(len(x)/2,2,i)\n",
        "    g1.plot(xx, lagrange_interpolation(x[i-1:],y[i-1:],xx))\n",
        "    g1.scatter(x,y)\n",
        "    plt.grid(True, which='both')\n",
        "    plt.axvline(x=0, color='k')\n",
        "    plt.axhline(y=0, color='k')"
      ],
      "metadata": {
        "colab": {
          "base_uri": "https://localhost:8080/",
          "height": 516
        },
        "id": "dbEOrshEYGBg",
        "outputId": "ac186ea6-bd00-4fee-c921-42e90b1d2657"
      },
      "execution_count": 7,
      "outputs": [
        {
          "output_type": "display_data",
          "data": {
            "image/png": "[encoded data removed]",
            "text/plain": [
              "<Figure size 432x288 with 1 Axes>"
            ]
          },
          "metadata": {
            "needs_background": "light"
          }
        },
        {
          "output_type": "display_data",
          "data": {
            "image/png": "[encoded data removed]",
            "text/plain": [
              "<Figure size 432x288 with 7 Axes>"
            ]
          },
          "metadata": {
            "needs_background": "light"
          }
        }
      ]
    },
    {
      "cell_type": "markdown",
      "source": [
        "# Newton’s Polynomial Interpolation"
      ],
      "metadata": {
        "id": "drgIj0rjXXz5"
      }
    },
    {
      "cell_type": "code",
      "source": [
        "import pandas as pd\n",
        "import matplotlib.pyplot as plt\n",
        "import numpy as np"
      ],
      "metadata": {
        "id": "cHy1SvHGXi9K"
      },
      "execution_count": 2,
      "outputs": []
    },
    {
      "cell_type": "markdown",
      "source": [
        "This is the algorithm for Newton’s polynomial. It accepts an array of x and y values, and the value (xi) you want to interpolate. This function returned a multidimensional array of the interpolated values for different orders and their respective relative errors that would be used for visualization. (But you can modify the code to return an array of interpolated values in different orders if you don’t need to visualize)"
      ],
      "metadata": {
        "id": "rt5Teb3mXqhR"
      }
    },
    {
      "cell_type": "code",
      "source": [
        "def newton_interpolation(x, y, xi):\n",
        "    #length/number of datapoints\n",
        "    n = len(x)\n",
        "    #divided difference initialization\n",
        "    fdd = [[None for x in range(n)] for x in range(n)]\n",
        "    #f(X) values at different degrees\n",
        "    yint = [None for x in range(n)]\n",
        "    #error value\n",
        "    ea = [None for x in range(n)]\n",
        "    \n",
        "    #finding divided difference\n",
        "    for i in range(n):\n",
        "        fdd[i][0] = y[i]\n",
        "    for j in range(1,n):\n",
        "        for i in range(n-j):\n",
        "            fdd[i][j] = (fdd[i+1][j-1] - fdd[i][j-1])/(x[i+j]-x[i])\n",
        "    \n",
        "    #just printing dd here\n",
        "    fdd_table = pd.DataFrame(fdd)\n",
        "    print(fdd_table)\n",
        "    \n",
        "    #interpolating xi\n",
        "    xterm = 1\n",
        "    yint[0] = fdd[0][0]\n",
        "    for order in range(1, n):\n",
        "        xterm = xterm * (xi - x[order-1])\n",
        "        yint2 = yint[order-1] + fdd[0][order]*xterm\n",
        "        ea[order-1] = yint2 - yint[order-1]\n",
        "        yint[order] = yint2\n",
        "    \n",
        "    #returning a map for pandas dataframe\n",
        "    return map(lambda yy, ee : [yy, ee], yint, ea)"
      ],
      "metadata": {
        "id": "XgQJ4SRMXoKV"
      },
      "execution_count": 3,
      "outputs": []
    },
    {
      "cell_type": "markdown",
      "source": [
        "For our sample problem, we will try to estimate the value of ln(2) using the given datapoints:"
      ],
      "metadata": {
        "id": "Tr77jMLOXwdr"
      }
    },
    {
      "cell_type": "code",
      "source": [
        "x = [1,4,6, 5, 3, 1.5, 2.5, 3.5]\n",
        "y = [0, 1.3862944, 1.7917595, 1.6094379, 1.0986123 , 0.4054641, 0.9162907, 1.2527630]"
      ],
      "metadata": {
        "id": "LMDLpE8vXoHm"
      },
      "execution_count": 4,
      "outputs": []
    },
    {
      "cell_type": "markdown",
      "source": [
        "We can use our newton_interpolation function to solve for ln(2)"
      ],
      "metadata": {
        "id": "kzojI-vLXzXZ"
      }
    },
    {
      "cell_type": "code",
      "source": [
        "a = newton_interpolation(x, y, 2)\n",
        "df = pd.DataFrame(a, columns=['f(x)','error'])"
      ],
      "metadata": {
        "colab": {
          "base_uri": "https://localhost:8080/"
        },
        "id": "odSvHGlLXoFB",
        "outputId": "ab6d15c5-1ddc-4e55-e9a6-25b4ccedd716"
      },
      "execution_count": 5,
      "outputs": [
        {
          "output_type": "stream",
          "name": "stdout",
          "text": [
            "          0         1         2  ...         5         6         7\n",
            "0  0.000000  0.462098 -0.051873  ...  0.000908 -0.000301  0.000076\n",
            "1  1.386294  0.202733 -0.020411  ...  0.000456 -0.000110       NaN\n",
            "2  1.791759  0.182322 -0.024364  ...  0.000511       NaN       NaN\n",
            "3  1.609438  0.255413 -0.059053  ...       NaN       NaN       NaN\n",
            "4  1.098612  0.462099 -0.097456  ...       NaN       NaN       NaN\n",
            "5  0.405464  0.510827 -0.087177  ...       NaN       NaN       NaN\n",
            "6  0.916291  0.336472       NaN  ...       NaN       NaN       NaN\n",
            "7  1.252763       NaN       NaN  ...       NaN       NaN       NaN\n",
            "\n",
            "[8 rows x 8 columns]\n"
          ]
        }
      ]
    }
  ]
}