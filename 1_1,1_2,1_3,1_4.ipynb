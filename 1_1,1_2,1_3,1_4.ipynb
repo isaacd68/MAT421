{
  "nbformat": 4,
  "nbformat_minor": 0,
  "metadata": {
    "colab": {
      "name": "1.1,1.2,1.3,1.4.ipynb",
      "provenance": [],
      "authorship_tag": "ABX9TyMRZzIt00Ks//CuJHyL618a",
      "include_colab_link": true
    },
    "kernelspec": {
      "name": "python3",
      "display_name": "Python 3"
    },
    "language_info": {
      "name": "python"
    }
  },
  "cells": [
    {
      "cell_type": "markdown",
      "metadata": {
        "id": "view-in-github",
        "colab_type": "text"
      },
      "source": [
        "<a href=\"https://colab.research.google.com/github/isaacd68/MAT421/blob/main/1_1%2C1_2%2C1_3%2C1_4.ipynb\" target=\"_parent\"><img src=\"https://colab.research.google.com/assets/colab-badge.svg\" alt=\"Open In Colab\"/></a>"
      ]
    },
    {
      "cell_type": "markdown",
      "source": [
        "\n",
        "# Linear Combinations in Python\n",
        "\n",
        "Any integer between -40 and 40 can be written as a linear combination of 1, 3, 9, 27 with scalars being elements of the set {-1, 0, 1}. For example: 7 = 1 · 1 + (-1) · 3 + 1 · 9 + 0 · 27\n",
        "\n",
        "We can calculate these scalars with Python. First we need a generator generating all the possible scalar combinations."
      ],
      "metadata": {
        "id": "4WBZe9YTs6-N"
      }
    },
    {
      "cell_type": "code",
      "metadata": {
        "id": "W6bIbvWZzDM8"
      },
      "source": [
        "def factors_set():\n",
        "    for i in [-1, 0, 1]:\n",
        "        for j in [-1,0,1]:\n",
        "            for k in [-1,0,1]:\n",
        "                for l in [-1,0,1]:\n",
        "                    yield (i, j, k, l)  "
      ],
      "execution_count": 1,
      "outputs": []
    },
    {
      "cell_type": "markdown",
      "source": [
        "use the memoize() technique to memorize previous results."
      ],
      "metadata": {
        "id": "-T4q0iQgwQU3"
      }
    },
    {
      "cell_type": "code",
      "metadata": {
        "id": "kN5fZd6jzEJk"
      },
      "source": [
        "\n",
        "def memoize(f):\n",
        "    results = {}\n",
        "    def helper(n):\n",
        "        if n not in results:\n",
        "            results[n] = f(n)\n",
        "        return results[n]\n",
        "    return helper"
      ],
      "execution_count": 2,
      "outputs": []
    },
    {
      "cell_type": "markdown",
      "source": [
        "in our function linear_combination() we check every scalar tuple, if it can create the value n."
      ],
      "metadata": {
        "id": "XIn2AIDywYUT"
      }
    },
    {
      "cell_type": "code",
      "metadata": {
        "id": "iQWOqpCZzFfH"
      },
      "source": [
        "\n",
        "@memoize\n",
        "def linear_combination(n):\n",
        "    \"\"\" returns the tuple (i,j,k,l) satisfying\n",
        "        n = i*1 + j*3 + k*9 + l*27      \"\"\"\n",
        "    weighs = (1,3,9,27)\n",
        "      \n",
        "    for factors in factors_set():\n",
        "       sum = 0\n",
        "       for i in range(len(factors)):\n",
        "          sum += factors[i] * weighs[i]\n",
        "       if sum == n:\n",
        "          return factors"
      ],
      "execution_count": 3,
      "outputs": []
    },
    {
      "cell_type": "markdown",
      "source": [
        "Putting all toghether we have:"
      ],
      "metadata": {
        "id": "egCPCiKOwdbP"
      }
    },
    {
      "cell_type": "code",
      "metadata": {
        "id": "QT3wOgpwsaBO",
        "colab": {
          "base_uri": "https://localhost:8080/"
        },
        "outputId": "6627e229-1a57-4494-e819-692c0df234b1"
      },
      "source": [
        "# Linear combination of vectors\n",
        "import numpy as np\n",
        "def factors_set():\n",
        "    for i in [-1, 0, 1]:\n",
        "        for j in [-1, 0, 1]:\n",
        "            for k in [-1, 0, 1]:\n",
        "                for l in [-1, 0, 1]:\n",
        "                    yield (i, j, k, l)  \n",
        "\n",
        "\n",
        "def memoize(f):\n",
        "    results = {}\n",
        "    def helper(n):\n",
        "        if n not in results:\n",
        "            results[n] = f(n)\n",
        "        return results[n]\n",
        "    return helper\n",
        "\n",
        "@memoize\n",
        "def linear_combination(n):\n",
        "    \"\"\" returns the tuple (i,j,k,l) satisfying\n",
        "        n = i*1 + j*3 + k*9 + l*27      \"\"\"\n",
        "    weighs = (1, 3, 9, 27)\n",
        "      \n",
        "    for factors in factors_set():\n",
        "       sum = 0\n",
        "       for i in range(len(factors)):\n",
        "          sum += factors[i] * weighs[i]\n",
        "       if sum == n:\n",
        "          return factors\n",
        "\n",
        "# calculate the linear combinations of the first 10 positive integers:\n",
        "for i in range(1,11):\n",
        "    print(linear_combination(i))"
      ],
      "execution_count": 4,
      "outputs": [
        {
          "output_type": "stream",
          "name": "stdout",
          "text": [
            "(1, 0, 0, 0)\n",
            "(-1, 1, 0, 0)\n",
            "(0, 1, 0, 0)\n",
            "(1, 1, 0, 0)\n",
            "(-1, -1, 1, 0)\n",
            "(0, -1, 1, 0)\n",
            "(1, -1, 1, 0)\n",
            "(-1, 0, 1, 0)\n",
            "(0, 0, 1, 0)\n",
            "(1, 0, 1, 0)\n"
          ]
        }
      ]
    },
    {
      "cell_type": "markdown",
      "source": [
        "# Othogonality in Python\n",
        "\n",
        "First, we'll create two vectors"
      ],
      "metadata": {
        "id": "5b-UsFv7wkLd"
      }
    },
    {
      "cell_type": "code",
      "metadata": {
        "id": "-xWbsX4m0UgH"
      },
      "source": [
        "v1 = np.array([1,-2, 4])\n",
        "v2 = np.array([2, 5, 2])"
      ],
      "execution_count": 5,
      "outputs": []
    },
    {
      "cell_type": "markdown",
      "source": [
        "We can perform the dot product of the vectors using standard calculation"
      ],
      "metadata": {
        "id": "n52ucV_cwov6"
      }
    },
    {
      "cell_type": "code",
      "metadata": {
        "id": "ug_gUjPK3sWc",
        "colab": {
          "base_uri": "https://localhost:8080/"
        },
        "outputId": "63f3c607-f766-4c44-f826-012f98d09357"
      },
      "source": [
        "dot_product = np.sum(v1 * v2)\n",
        "\n",
        "print(\"The dot product of v1 and v2 is\", dot_product )"
      ],
      "execution_count": 6,
      "outputs": [
        {
          "output_type": "stream",
          "name": "stdout",
          "text": [
            "The dot product of v1 and v2 is 0\n"
          ]
        }
      ]
    },
    {
      "cell_type": "markdown",
      "source": [
        "Or use numpy version"
      ],
      "metadata": {
        "id": "5oYvWkq1wu_b"
      }
    },
    {
      "cell_type": "code",
      "metadata": {
        "id": "wjHqOJW03suF",
        "colab": {
          "base_uri": "https://localhost:8080/"
        },
        "outputId": "fec2ff81-90b9-4e5a-c1ee-182b038f5d5f"
      },
      "source": [
        "import numpy as np\n",
        "dot_product = np.dot(v1,v2)\n",
        "\n",
        "print(\"The dot product of v1 and v2 is\", dot_product )"
      ],
      "execution_count": 7,
      "outputs": [
        {
          "output_type": "stream",
          "name": "stdout",
          "text": [
            "The dot product of v1 and v2 is 0\n"
          ]
        }
      ]
    },
    {
      "cell_type": "markdown",
      "source": [
        "Calculating the length of each vector"
      ],
      "metadata": {
        "id": "Db9GJjh_wzD0"
      }
    },
    {
      "cell_type": "code",
      "metadata": {
        "id": "GJCLpcLS4HUw",
        "colab": {
          "base_uri": "https://localhost:8080/"
        },
        "outputId": "c99480d3-84b9-42e3-b13b-6822aa75b2f6"
      },
      "source": [
        "n1 = np.sqrt(np.sum(v1 * v1))\n",
        "n2 = np.sqrt(np.sum(v2 * v2))\n",
        "\n",
        "print('The L2 norm of v1 is', n1)\n",
        "print('The L2 norm of v2 is', n2)"
      ],
      "execution_count": 8,
      "outputs": [
        {
          "output_type": "stream",
          "name": "stdout",
          "text": [
            "The L2 norm of v1 is 4.58257569495584\n",
            "The L2 norm of v2 is 5.744562646538029\n"
          ]
        }
      ]
    },
    {
      "cell_type": "markdown",
      "source": [
        "Or in numpy"
      ],
      "metadata": {
        "id": "p1WCyAEuw6K2"
      }
    },
    {
      "cell_type": "code",
      "metadata": {
        "id": "PpINjTG-4UV6",
        "colab": {
          "base_uri": "https://localhost:8080/"
        },
        "outputId": "f18a4471-1a20-45ef-f0d0-c78db70d4bf1"
      },
      "source": [
        "import numpy as np\n",
        "n1 = np.linalg.norm(v1, ord=2)\n",
        "n2 = np.linalg.norm(v2, ord=2)\n",
        "\n",
        "print('The L2 norm of v1 is', n1)\n",
        "print('The L2 norm of v2 is', n2)"
      ],
      "execution_count": 9,
      "outputs": [
        {
          "output_type": "stream",
          "name": "stdout",
          "text": [
            "The L2 norm of v1 is 4.58257569495584\n",
            "The L2 norm of v2 is 5.744562646538029\n"
          ]
        }
      ]
    },
    {
      "cell_type": "markdown",
      "source": [
        "2D representation of orthogonal vectors"
      ],
      "metadata": {
        "id": "5n_B4iKsw95p"
      }
    },
    {
      "cell_type": "code",
      "metadata": {
        "id": "2M3ic8l64la1",
        "colab": {
          "base_uri": "https://localhost:8080/",
          "height": 324
        },
        "outputId": "2477a8b8-1bc5-490c-e71e-7f86f250fa36"
      },
      "source": [
        "import numpy as np\n",
        "import matplotlib.pyplot as plt\n",
        "\n",
        "fig = plt.figure(figsize=(5, 5))\n",
        "ax = fig.add_subplot(111)\n",
        "\n",
        "ax.grid(alpha=0.4)\n",
        "ax.set(xlim=(-3, 3), ylim=(-3, 3))\n",
        "\n",
        "v1 = np.array([1,  2])\n",
        "v2 = np.array([2, -1])\n",
        "\n",
        "# Plot the orthogonal vectors\n",
        "ax.annotate('', xy=v1, xytext=(0, 0), arrowprops=dict(facecolor='r'))\n",
        "ax.annotate('', xy=v2, xytext=(0, 0), arrowprops=dict(facecolor='g'))\n",
        "plt.show()"
      ],
      "execution_count": 10,
      "outputs": [
        {
          "output_type": "display_data",
          "data": {
            "image/png": "[encoded data removed]",
            "text/plain": [
              "<Figure size 360x360 with 1 Axes>"
            ]
          },
          "metadata": {
            "needs_background": "light"
          }
        }
      ]
    },
    {
      "cell_type": "markdown",
      "source": [
        "And in 3D"
      ],
      "metadata": {
        "id": "4Pt6vIlkxC-K"
      }
    },
    {
      "cell_type": "code",
      "metadata": {
        "id": "jVbSgIdz4lso",
        "colab": {
          "base_uri": "https://localhost:8080/",
          "height": 466
        },
        "outputId": "b4b73b32-e566-40b4-c079-06255b3d1c2b"
      },
      "source": [
        "import numpy as np\n",
        "import matplotlib.pyplot as plt\n",
        "\n",
        "# 3D representation of the orthogonal vectors\n",
        "fig = plt.figure(figsize=(8, 8))\n",
        "ax = fig.add_subplot(111, projection='3d')\n",
        "\n",
        "# Define the orthogonal vectors\n",
        "v1 = np.array([ 0, 0, -1])\n",
        "v2 = np.array([ 1, 1, 0])\n",
        "v3 = np.array([-1, 1, 0])\n",
        " \n",
        "# Plot the orthogonal vectors\n",
        "ax.quiver( 0, 0, 0, v1[0], v1[1], v1[2], color = 'r', lw=3, arrow_length_ratio=0.2)\n",
        "ax.quiver( 0, 0, 0, v2[0], v2[1], v2[2], color = 'g', lw=3, arrow_length_ratio=0.2)\n",
        "ax.quiver( 0, 0, 0, v3[0], v3[1], v3[2], color = 'b', lw=3, arrow_length_ratio=0.2)\n",
        "\n",
        "ax.set_xlim([-1, 1]), ax.set_ylim([-1, 1]), ax.set_zlim([-1, 1])\n",
        "ax.set_xlabel('X axis'), ax.set_ylabel('Y axis'), ax.set_zlabel('Z axis')\n",
        "plt.show()"
      ],
      "execution_count": 11,
      "outputs": [
        {
          "output_type": "display_data",
          "data": {
            "image/png": "[encoded data removed]",
            "text/plain": [
              "<Figure size 576x576 with 1 Axes>"
            ]
          },
          "metadata": {
            "needs_background": "light"
          }
        }
      ]
    },
    {
      "cell_type": "markdown",
      "source": [
        "# Eigenvalues/vectors in Python\n",
        "\n",
        "The function scipy.linalg.eig computes eigenvalues and eigenvectors of a square matrix. Let's consider a simple example with a diagonal matrix:"
      ],
      "metadata": {
        "id": "DvYscyMGxIwj"
      }
    },
    {
      "cell_type": "code",
      "metadata": {
        "id": "qoWGOo5O5HAj",
        "colab": {
          "base_uri": "https://localhost:8080/"
        },
        "outputId": "27d09b6d-48fb-4c03-8802-a86ae675dcbf"
      },
      "source": [
        "import numpy as np\n",
        "A = np.array([[1,0],[0,-2]])\n",
        "print(A)"
      ],
      "execution_count": 12,
      "outputs": [
        {
          "output_type": "stream",
          "name": "stdout",
          "text": [
            "[[ 1  0]\n",
            " [ 0 -2]]\n"
          ]
        }
      ]
    },
    {
      "cell_type": "markdown",
      "source": [
        "The function la.eig returns a tuple (eigvals,eigvecs) where eigvals is a 1D NumPy array of complex numbers giving the eigenvalues of  A , and eigvecs is a 2D NumPy array with the corresponding eigenvectors in the columns:"
      ],
      "metadata": {
        "id": "nLEp2sLLxNPq"
      }
    },
    {
      "cell_type": "code",
      "metadata": {
        "id": "QqCb12P-6n1E"
      },
      "source": [
        "results = np.linalg.eig(A)"
      ],
      "execution_count": 14,
      "outputs": []
    },
    {
      "cell_type": "markdown",
      "source": [
        "The eigenvalues of  A  are:"
      ],
      "metadata": {
        "id": "7pLNywXtxyP5"
      }
    },
    {
      "cell_type": "code",
      "metadata": {
        "id": "aI7cPKjd6qfH",
        "colab": {
          "base_uri": "https://localhost:8080/"
        },
        "outputId": "155e6130-a03e-43f8-a655-41fe7ebd02c6"
      },
      "source": [
        "print(results[0])"
      ],
      "execution_count": 15,
      "outputs": [
        {
          "output_type": "stream",
          "name": "stdout",
          "text": [
            "[ 1. -2.]\n"
          ]
        }
      ]
    },
    {
      "cell_type": "markdown",
      "source": [
        "The corresponding eigenvectors are:"
      ],
      "metadata": {
        "id": "MC0hR1dSx2u0"
      }
    },
    {
      "cell_type": "code",
      "metadata": {
        "id": "gPOwGm0f68fD",
        "colab": {
          "base_uri": "https://localhost:8080/"
        },
        "outputId": "809a5484-ca0a-4f12-ad27-833b9baa9196"
      },
      "source": [
        "print(results[1])"
      ],
      "execution_count": 16,
      "outputs": [
        {
          "output_type": "stream",
          "name": "stdout",
          "text": [
            "[[1. 0.]\n",
            " [0. 1.]]\n"
          ]
        }
      ]
    },
    {
      "cell_type": "markdown",
      "source": [
        "We can unpack the tuple:"
      ],
      "metadata": {
        "id": "tfpSo005x8VI"
      }
    },
    {
      "cell_type": "code",
      "metadata": {
        "id": "oKjNdqY468r2",
        "colab": {
          "base_uri": "https://localhost:8080/"
        },
        "outputId": "bc39e13c-9757-48d5-f2ea-e45a3bd34f09"
      },
      "source": [
        "eigvals, eigvecs = np.linalg.eig(A)\n",
        "print(eigvals)"
      ],
      "execution_count": 18,
      "outputs": [
        {
          "output_type": "stream",
          "name": "stdout",
          "text": [
            "[ 1. -2.]\n"
          ]
        }
      ]
    },
    {
      "cell_type": "code",
      "metadata": {
        "id": "hAhTn5yz7HUA",
        "colab": {
          "base_uri": "https://localhost:8080/"
        },
        "outputId": "df848550-9f0c-46d0-9ef2-1749468d4593"
      },
      "source": [
        "print(eigvecs)"
      ],
      "execution_count": 19,
      "outputs": [
        {
          "output_type": "stream",
          "name": "stdout",
          "text": [
            "[[1. 0.]\n",
            " [0. 1.]]\n"
          ]
        }
      ]
    },
    {
      "cell_type": "markdown",
      "source": [
        "If we know that the eigenvalues are real numbers (ie. if  A  is symmetric), then we can use the NumPy array method .real to convert the array of eigenvalues to real numbers:"
      ],
      "metadata": {
        "id": "ZWb5t1LmyLjD"
      }
    },
    {
      "cell_type": "code",
      "metadata": {
        "id": "_jivwPR87Rq1",
        "colab": {
          "base_uri": "https://localhost:8080/"
        },
        "outputId": "bb27490b-7008-4cfa-dee4-6526ba4d45db"
      },
      "source": [
        "eigvals = eigvals.real\n",
        "print(eigvals)"
      ],
      "execution_count": 20,
      "outputs": [
        {
          "output_type": "stream",
          "name": "stdout",
          "text": [
            "[ 1. -2.]\n"
          ]
        }
      ]
    },
    {
      "cell_type": "markdown",
      "source": [
        "Notice that the position of an eigenvalue in the array eigvals correspond to the column in eigvecs with its eigenvector:"
      ],
      "metadata": {
        "id": "oT8jQkC8yPag"
      }
    },
    {
      "cell_type": "code",
      "metadata": {
        "id": "aF2f5U8l7aLH"
      },
      "source": [
        "lambda1 = eigvals[1]\n",
        "print(lambda1)"
      ],
      "execution_count": null,
      "outputs": []
    },
    {
      "cell_type": "code",
      "metadata": {
        "id": "WGMx0LN-7cUP",
        "colab": {
          "base_uri": "https://localhost:8080/"
        },
        "outputId": "68f40d06-64a2-41a4-c30f-b70b659f4522"
      },
      "source": [
        "v1 = eigvecs[:,1].reshape(2,1)\n",
        "print(v1)"
      ],
      "execution_count": 22,
      "outputs": [
        {
          "output_type": "stream",
          "name": "stdout",
          "text": [
            "[[0.]\n",
            " [1.]]\n"
          ]
        }
      ]
    },
    {
      "cell_type": "code",
      "metadata": {
        "id": "fEoo7BV67cXN",
        "colab": {
          "base_uri": "https://localhost:8080/"
        },
        "outputId": "42958c61-a78f-4806-9e30-8963d95bcd4a"
      },
      "source": [
        "A @ v1"
      ],
      "execution_count": 23,
      "outputs": [
        {
          "output_type": "execute_result",
          "data": {
            "text/plain": [
              "array([[ 0.],\n",
              "       [-2.]])"
            ]
          },
          "metadata": {},
          "execution_count": 23
        }
      ]
    },
    {
      "cell_type": "code",
      "metadata": {
        "id": "On_gdToQ7cZ1",
        "colab": {
          "base_uri": "https://localhost:8080/"
        },
        "outputId": "d2651e2e-a897-4f89-f02d-a6b0245fb44b"
      },
      "source": [
        "lambda1 * v1"
      ],
      "execution_count": 24,
      "outputs": [
        {
          "output_type": "execute_result",
          "data": {
            "text/plain": [
              "array([[-0.],\n",
              "       [-2.]])"
            ]
          },
          "metadata": {},
          "execution_count": 24
        }
      ]
    },
    {
      "cell_type": "code",
      "metadata": {
        "colab": {
          "base_uri": "https://localhost:8080/"
        },
        "id": "Dgoyx_0jUi6-",
        "outputId": "bc96c0d8-3ac5-42e6-872f-276de55c7d4d"
      },
      "source": [
        "import numpy as np\n",
        "import matplotlib.pyplot as plt\n",
        "import scipy.linalg as la\n",
        "\n",
        "A = np.array([[1,0],[0,-2]])\n",
        "print(A)\n",
        "\n",
        "results = la.eig(A)\n",
        "print(results[0])\n",
        "print(results[1])\n",
        "\n",
        "eigvals, eigvecs = la.eig(A)\n",
        "print(eigvals)\n",
        "print(eigvecs)\n",
        "\n",
        "eigvals = eigvals.real\n",
        "print(eigvals)\n",
        "\n",
        "lambda1 = eigvals[1]\n",
        "print(lambda1)\n",
        "\n",
        "v1 = eigvecs[:,1].reshape(2,1)\n",
        "print(v1)\n",
        "\n",
        "A @ v1\n",
        "\n",
        "lambda1 * v1"
      ],
      "execution_count": 25,
      "outputs": [
        {
          "output_type": "stream",
          "name": "stdout",
          "text": [
            "[[ 1  0]\n",
            " [ 0 -2]]\n",
            "[ 1.+0.j -2.+0.j]\n",
            "[[1. 0.]\n",
            " [0. 1.]]\n",
            "[ 1.+0.j -2.+0.j]\n",
            "[[1. 0.]\n",
            " [0. 1.]]\n",
            "[ 1. -2.]\n",
            "-2.0\n",
            "[[0.]\n",
            " [1.]]\n"
          ]
        },
        {
          "output_type": "execute_result",
          "data": {
            "text/plain": [
              "array([[-0.],\n",
              "       [-2.]])"
            ]
          },
          "metadata": {},
          "execution_count": 25
        }
      ]
    },
    {
      "cell_type": "markdown",
      "source": [
        "\n",
        "# QR Decompostion\n",
        "\n",
        "To calculate the QR Decomposition of a matrix with NumPy/SciPy, we can make use of the built-in linalg library via the linalg.qr function. This is significantly more efficient than using a pure Python implementation:"
      ],
      "metadata": {
        "id": "9hEkh6Wzyjnw"
      }
    },
    {
      "cell_type": "code",
      "metadata": {
        "colab": {
          "base_uri": "https://localhost:8080/"
        },
        "id": "P8HjcA4_XGg1",
        "outputId": "10da78f3-0f62-481a-8df5-e0df86de47da"
      },
      "source": [
        "import pprint\n",
        "import numpy as np\n",
        "import scipy.linalg   # SciPy Linear Algebra Library\n",
        "\n",
        "A = np.array([[12, -51, 4], [6, 167, -68], [-4, 24, -41]])  \n",
        "Q, R = scipy.linalg.qr(A)\n",
        "\n",
        "print (\"A:\")\n",
        "pprint.pprint(A)\n",
        "\n",
        "print (\"Q:\")\n",
        "pprint.pprint(Q)\n",
        "\n",
        "print (\"R:\")\n",
        "pprint.pprint(R)"
      ],
      "execution_count": 26,
      "outputs": [
        {
          "output_type": "stream",
          "name": "stdout",
          "text": [
            "A:\n",
            "array([[ 12, -51,   4],\n",
            "       [  6, 167, -68],\n",
            "       [ -4,  24, -41]])\n",
            "Q:\n",
            "array([[-0.85714286,  0.39428571,  0.33142857],\n",
            "       [-0.42857143, -0.90285714, -0.03428571],\n",
            "       [ 0.28571429, -0.17142857,  0.94285714]])\n",
            "R:\n",
            "array([[ -14.,  -21.,   14.],\n",
            "       [   0., -175.,   70.],\n",
            "       [   0.,    0.,  -35.]])\n"
          ]
        }
      ]
    },
    {
      "cell_type": "markdown",
      "source": [
        "The output of R is a check to make sure it is an upper triangular matrix.\n",
        "\n",
        "Using the Householder Reflections algorithim to have a better idea for QR decomposition in python."
      ],
      "metadata": {
        "id": "VmUB4_Fhyrui"
      }
    },
    {
      "cell_type": "code",
      "metadata": {
        "colab": {
          "base_uri": "https://localhost:8080/",
          "height": 588
        },
        "id": "-BUmK2bIYqGq",
        "outputId": "2ee8ee2c-c8b8-43ad-ce65-75a00138b960"
      },
      "source": [
        "from math import sqrt\n",
        "from pprint import pprint\n",
        "import math\n",
        "import numpy as np\n",
        "import scipy.linalg\n",
        "\n",
        "A = np.array([[12, -51, 4], [6, 167, -68], [-4, 24, -41]])  \n",
        "Q, R = scipy.linalg.qr(A)\n",
        "\n",
        "print (\"A:\")\n",
        "pprint(A)\n",
        "\n",
        "print (\"Q:\")\n",
        "pprint(Q)\n",
        "\n",
        "print (\"R:\")\n",
        "pprint(R) \n",
        "\n",
        "def mult_matrix(M, N):\n",
        "    \"\"\"Multiply square matrices of same dimension M and N\"\"\"\n",
        "    # Converts N into a list of tuples of columns                                                                     \n",
        "    tuple_N = zip(*N)\n",
        "\n",
        "    # Nested list comprehension to calculate matrix multiplication                                                    \n",
        "    return [[sum(el_m * el_n for el_m, el_n in zip(row_m, col_n)) for col_n in tuple_N] for row_m in M]\n",
        "\n",
        "def trans_matrix(M):\n",
        "    \"\"\"Take the transpose of a matrix.\"\"\"\n",
        "    n = len(M)\n",
        "    return [[ M[i][j] for i in range(n)] for j in range(n)]\n",
        "\n",
        "def norm(x):\n",
        "    \"\"\"Return the Euclidean norm of the vector x.\"\"\"\n",
        "    return sqrt(sum([x_i**2 for x_i in x]))\n",
        "\n",
        "def Q_i(Q_min, i, j, k):\n",
        "    \"\"\"Construct the Q_t matrix by left-top padding the matrix Q                                                      \n",
        "    with elements from the identity matrix.\"\"\"\n",
        "    if i < k or j < k:\n",
        "        return float(i == j)\n",
        "    else:\n",
        "        return Q_min[i-k][j-k]\n",
        "\n",
        "def householder(A):\n",
        "    \"\"\"Performs a Householder Reflections based QR Decomposition of the                                               \n",
        "    matrix A. The function returns Q, an orthogonal matrix and R, an                                                  \n",
        "    upper triangular matrix such that A = QR.\"\"\"\n",
        "    n = len(A)\n",
        "\n",
        "    # Set R equal to A, and create Q as a zero matrix of the same size\n",
        "    R = A\n",
        "    Q = [[0.0] * n for i in range(n)]\n",
        "\n",
        "    # The Householder procedure\n",
        "    for k in range(n-1):  # We don't perform the procedure on a 1x1 matrix, so we reduce the index by 1\n",
        "        # Create identity matrix of same size as A                                                                    \n",
        "        I = [[float(i == j) for i in range(n)] for j in range(n)]\n",
        "    \n",
        "        # Create the vectors x, e and the scalar alpha\n",
        "        ang = 0\n",
        "        x = [row[k] for row in R[k:]]\n",
        "        e = [row[k] for row in I[k:]]\n",
        "        alpha = -math.copysign(x[0], ang) * norm(x)\n",
        "\n",
        "        # Using anonymous functions, we create u and v\n",
        "        u = map(lambda p,q: p + alpha * q, x, e)\n",
        "        norm_u = norm(u)\n",
        "        v = map(lambda p: p/norm_u, u)\n",
        "\n",
        "        # Create the Q minor matrix\n",
        "        Q_min = [[float(i==j) - 2.0 * v[i] * v[j] for i in range(n-k)] for j in range(n-k)]\n",
        "        for i in range(n-k):\n",
        "              print(i)\n",
        "        for j in range(n-k):\n",
        "              print(j) \n",
        "        # \"Pad out\" the Q minor matrix with elements from the identity\n",
        "        Q_t = [[Q_i(Q_min,i,j,k) for i in range(n)] for j in range(n)]\n",
        "\n",
        "        # If this is the first run through, right multiply by A,\n",
        "        # else right multiply by Q\n",
        "        if k == 0:\n",
        "            Q = Q_t\n",
        "            R = mult_matrix(Q_t,A)\n",
        "        else:\n",
        "            Q = mult_matrix(Q_t,Q)\n",
        "            R = mult_matrix(Q_t,R)\n",
        "\n",
        "    # Since Q is defined as the product of transposes of Q_t,\n",
        "    # we need to take the transpose upon returning it\n",
        "    return trans_matrix(Q), R\n",
        "\n",
        "A = [[12, -51, 4], [6, 167, -68], [-4, 24, -41]]\n",
        "Q, R = householder(A)\n",
        "\n",
        "print (\"A:\")\n",
        "pprint(A)\n",
        "\n",
        "print (\"Q:\")\n",
        "pprint(Q)\n",
        "\n",
        "print (\"R:\")\n",
        "pprint(R)"
      ],
      "execution_count": 27,
      "outputs": [
        {
          "output_type": "stream",
          "name": "stdout",
          "text": [
            "A:\n",
            "array([[ 12, -51,   4],\n",
            "       [  6, 167, -68],\n",
            "       [ -4,  24, -41]])\n",
            "Q:\n",
            "array([[-0.85714286,  0.39428571,  0.33142857],\n",
            "       [-0.42857143, -0.90285714, -0.03428571],\n",
            "       [ 0.28571429, -0.17142857,  0.94285714]])\n",
            "R:\n",
            "array([[ -14.,  -21.,   14.],\n",
            "       [   0., -175.,   70.],\n",
            "       [   0.,    0.,  -35.]])\n"
          ]
        },
        {
          "output_type": "error",
          "ename": "TypeError",
          "evalue": "ignored",
          "traceback": [
            "\u001b[0;31m---------------------------------------------------------------------------\u001b[0m",
            "\u001b[0;31mTypeError\u001b[0m                                 Traceback (most recent call last)",
            "\u001b[0;32m<ipython-input-27-ca43287a1a49>\u001b[0m in \u001b[0;36m<module>\u001b[0;34m()\u001b[0m\n\u001b[1;32m     91\u001b[0m \u001b[0;34m\u001b[0m\u001b[0m\n\u001b[1;32m     92\u001b[0m \u001b[0mA\u001b[0m \u001b[0;34m=\u001b[0m \u001b[0;34m[\u001b[0m\u001b[0;34m[\u001b[0m\u001b[0;36m12\u001b[0m\u001b[0;34m,\u001b[0m \u001b[0;34m-\u001b[0m\u001b[0;36m51\u001b[0m\u001b[0;34m,\u001b[0m \u001b[0;36m4\u001b[0m\u001b[0;34m]\u001b[0m\u001b[0;34m,\u001b[0m \u001b[0;34m[\u001b[0m\u001b[0;36m6\u001b[0m\u001b[0;34m,\u001b[0m \u001b[0;36m167\u001b[0m\u001b[0;34m,\u001b[0m \u001b[0;34m-\u001b[0m\u001b[0;36m68\u001b[0m\u001b[0;34m]\u001b[0m\u001b[0;34m,\u001b[0m \u001b[0;34m[\u001b[0m\u001b[0;34m-\u001b[0m\u001b[0;36m4\u001b[0m\u001b[0;34m,\u001b[0m \u001b[0;36m24\u001b[0m\u001b[0;34m,\u001b[0m \u001b[0;34m-\u001b[0m\u001b[0;36m41\u001b[0m\u001b[0;34m]\u001b[0m\u001b[0;34m]\u001b[0m\u001b[0;34m\u001b[0m\u001b[0;34m\u001b[0m\u001b[0m\n\u001b[0;32m---> 93\u001b[0;31m \u001b[0mQ\u001b[0m\u001b[0;34m,\u001b[0m \u001b[0mR\u001b[0m \u001b[0;34m=\u001b[0m \u001b[0mhouseholder\u001b[0m\u001b[0;34m(\u001b[0m\u001b[0mA\u001b[0m\u001b[0;34m)\u001b[0m\u001b[0;34m\u001b[0m\u001b[0;34m\u001b[0m\u001b[0m\n\u001b[0m\u001b[1;32m     94\u001b[0m \u001b[0;34m\u001b[0m\u001b[0m\n\u001b[1;32m     95\u001b[0m \u001b[0mprint\u001b[0m \u001b[0;34m(\u001b[0m\u001b[0;34m\"A:\"\u001b[0m\u001b[0;34m)\u001b[0m\u001b[0;34m\u001b[0m\u001b[0;34m\u001b[0m\u001b[0m\n",
            "\u001b[0;32m<ipython-input-27-ca43287a1a49>\u001b[0m in \u001b[0;36mhouseholder\u001b[0;34m(A)\u001b[0m\n\u001b[1;32m     69\u001b[0m \u001b[0;34m\u001b[0m\u001b[0m\n\u001b[1;32m     70\u001b[0m         \u001b[0;31m# Create the Q minor matrix\u001b[0m\u001b[0;34m\u001b[0m\u001b[0;34m\u001b[0m\u001b[0;34m\u001b[0m\u001b[0m\n\u001b[0;32m---> 71\u001b[0;31m         \u001b[0mQ_min\u001b[0m \u001b[0;34m=\u001b[0m \u001b[0;34m[\u001b[0m\u001b[0;34m[\u001b[0m\u001b[0mfloat\u001b[0m\u001b[0;34m(\u001b[0m\u001b[0mi\u001b[0m\u001b[0;34m==\u001b[0m\u001b[0mj\u001b[0m\u001b[0;34m)\u001b[0m \u001b[0;34m-\u001b[0m \u001b[0;36m2.0\u001b[0m \u001b[0;34m*\u001b[0m \u001b[0mv\u001b[0m\u001b[0;34m[\u001b[0m\u001b[0mi\u001b[0m\u001b[0;34m]\u001b[0m \u001b[0;34m*\u001b[0m \u001b[0mv\u001b[0m\u001b[0;34m[\u001b[0m\u001b[0mj\u001b[0m\u001b[0;34m]\u001b[0m \u001b[0;32mfor\u001b[0m \u001b[0mi\u001b[0m \u001b[0;32min\u001b[0m \u001b[0mrange\u001b[0m\u001b[0;34m(\u001b[0m\u001b[0mn\u001b[0m\u001b[0;34m-\u001b[0m\u001b[0mk\u001b[0m\u001b[0;34m)\u001b[0m\u001b[0;34m]\u001b[0m \u001b[0;32mfor\u001b[0m \u001b[0mj\u001b[0m \u001b[0;32min\u001b[0m \u001b[0mrange\u001b[0m\u001b[0;34m(\u001b[0m\u001b[0mn\u001b[0m\u001b[0;34m-\u001b[0m\u001b[0mk\u001b[0m\u001b[0;34m)\u001b[0m\u001b[0;34m]\u001b[0m\u001b[0;34m\u001b[0m\u001b[0;34m\u001b[0m\u001b[0m\n\u001b[0m\u001b[1;32m     72\u001b[0m         \u001b[0;32mfor\u001b[0m \u001b[0mi\u001b[0m \u001b[0;32min\u001b[0m \u001b[0mrange\u001b[0m\u001b[0;34m(\u001b[0m\u001b[0mn\u001b[0m\u001b[0;34m-\u001b[0m\u001b[0mk\u001b[0m\u001b[0;34m)\u001b[0m\u001b[0;34m:\u001b[0m\u001b[0;34m\u001b[0m\u001b[0;34m\u001b[0m\u001b[0m\n\u001b[1;32m     73\u001b[0m               \u001b[0mprint\u001b[0m\u001b[0;34m(\u001b[0m\u001b[0mi\u001b[0m\u001b[0;34m)\u001b[0m\u001b[0;34m\u001b[0m\u001b[0;34m\u001b[0m\u001b[0m\n",
            "\u001b[0;32m<ipython-input-27-ca43287a1a49>\u001b[0m in \u001b[0;36m<listcomp>\u001b[0;34m(.0)\u001b[0m\n\u001b[1;32m     69\u001b[0m \u001b[0;34m\u001b[0m\u001b[0m\n\u001b[1;32m     70\u001b[0m         \u001b[0;31m# Create the Q minor matrix\u001b[0m\u001b[0;34m\u001b[0m\u001b[0;34m\u001b[0m\u001b[0;34m\u001b[0m\u001b[0m\n\u001b[0;32m---> 71\u001b[0;31m         \u001b[0mQ_min\u001b[0m \u001b[0;34m=\u001b[0m \u001b[0;34m[\u001b[0m\u001b[0;34m[\u001b[0m\u001b[0mfloat\u001b[0m\u001b[0;34m(\u001b[0m\u001b[0mi\u001b[0m\u001b[0;34m==\u001b[0m\u001b[0mj\u001b[0m\u001b[0;34m)\u001b[0m \u001b[0;34m-\u001b[0m \u001b[0;36m2.0\u001b[0m \u001b[0;34m*\u001b[0m \u001b[0mv\u001b[0m\u001b[0;34m[\u001b[0m\u001b[0mi\u001b[0m\u001b[0;34m]\u001b[0m \u001b[0;34m*\u001b[0m \u001b[0mv\u001b[0m\u001b[0;34m[\u001b[0m\u001b[0mj\u001b[0m\u001b[0;34m]\u001b[0m \u001b[0;32mfor\u001b[0m \u001b[0mi\u001b[0m \u001b[0;32min\u001b[0m \u001b[0mrange\u001b[0m\u001b[0;34m(\u001b[0m\u001b[0mn\u001b[0m\u001b[0;34m-\u001b[0m\u001b[0mk\u001b[0m\u001b[0;34m)\u001b[0m\u001b[0;34m]\u001b[0m \u001b[0;32mfor\u001b[0m \u001b[0mj\u001b[0m \u001b[0;32min\u001b[0m \u001b[0mrange\u001b[0m\u001b[0;34m(\u001b[0m\u001b[0mn\u001b[0m\u001b[0;34m-\u001b[0m\u001b[0mk\u001b[0m\u001b[0;34m)\u001b[0m\u001b[0;34m]\u001b[0m\u001b[0;34m\u001b[0m\u001b[0;34m\u001b[0m\u001b[0m\n\u001b[0m\u001b[1;32m     72\u001b[0m         \u001b[0;32mfor\u001b[0m \u001b[0mi\u001b[0m \u001b[0;32min\u001b[0m \u001b[0mrange\u001b[0m\u001b[0;34m(\u001b[0m\u001b[0mn\u001b[0m\u001b[0;34m-\u001b[0m\u001b[0mk\u001b[0m\u001b[0;34m)\u001b[0m\u001b[0;34m:\u001b[0m\u001b[0;34m\u001b[0m\u001b[0;34m\u001b[0m\u001b[0m\n\u001b[1;32m     73\u001b[0m               \u001b[0mprint\u001b[0m\u001b[0;34m(\u001b[0m\u001b[0mi\u001b[0m\u001b[0;34m)\u001b[0m\u001b[0;34m\u001b[0m\u001b[0;34m\u001b[0m\u001b[0m\n",
            "\u001b[0;32m<ipython-input-27-ca43287a1a49>\u001b[0m in \u001b[0;36m<listcomp>\u001b[0;34m(.0)\u001b[0m\n\u001b[1;32m     69\u001b[0m \u001b[0;34m\u001b[0m\u001b[0m\n\u001b[1;32m     70\u001b[0m         \u001b[0;31m# Create the Q minor matrix\u001b[0m\u001b[0;34m\u001b[0m\u001b[0;34m\u001b[0m\u001b[0;34m\u001b[0m\u001b[0m\n\u001b[0;32m---> 71\u001b[0;31m         \u001b[0mQ_min\u001b[0m \u001b[0;34m=\u001b[0m \u001b[0;34m[\u001b[0m\u001b[0;34m[\u001b[0m\u001b[0mfloat\u001b[0m\u001b[0;34m(\u001b[0m\u001b[0mi\u001b[0m\u001b[0;34m==\u001b[0m\u001b[0mj\u001b[0m\u001b[0;34m)\u001b[0m \u001b[0;34m-\u001b[0m \u001b[0;36m2.0\u001b[0m \u001b[0;34m*\u001b[0m \u001b[0mv\u001b[0m\u001b[0;34m[\u001b[0m\u001b[0mi\u001b[0m\u001b[0;34m]\u001b[0m \u001b[0;34m*\u001b[0m \u001b[0mv\u001b[0m\u001b[0;34m[\u001b[0m\u001b[0mj\u001b[0m\u001b[0;34m]\u001b[0m \u001b[0;32mfor\u001b[0m \u001b[0mi\u001b[0m \u001b[0;32min\u001b[0m \u001b[0mrange\u001b[0m\u001b[0;34m(\u001b[0m\u001b[0mn\u001b[0m\u001b[0;34m-\u001b[0m\u001b[0mk\u001b[0m\u001b[0;34m)\u001b[0m\u001b[0;34m]\u001b[0m \u001b[0;32mfor\u001b[0m \u001b[0mj\u001b[0m \u001b[0;32min\u001b[0m \u001b[0mrange\u001b[0m\u001b[0;34m(\u001b[0m\u001b[0mn\u001b[0m\u001b[0;34m-\u001b[0m\u001b[0mk\u001b[0m\u001b[0;34m)\u001b[0m\u001b[0;34m]\u001b[0m\u001b[0;34m\u001b[0m\u001b[0;34m\u001b[0m\u001b[0m\n\u001b[0m\u001b[1;32m     72\u001b[0m         \u001b[0;32mfor\u001b[0m \u001b[0mi\u001b[0m \u001b[0;32min\u001b[0m \u001b[0mrange\u001b[0m\u001b[0;34m(\u001b[0m\u001b[0mn\u001b[0m\u001b[0;34m-\u001b[0m\u001b[0mk\u001b[0m\u001b[0;34m)\u001b[0m\u001b[0;34m:\u001b[0m\u001b[0;34m\u001b[0m\u001b[0;34m\u001b[0m\u001b[0m\n\u001b[1;32m     73\u001b[0m               \u001b[0mprint\u001b[0m\u001b[0;34m(\u001b[0m\u001b[0mi\u001b[0m\u001b[0;34m)\u001b[0m\u001b[0;34m\u001b[0m\u001b[0;34m\u001b[0m\u001b[0m\n",
            "\u001b[0;31mTypeError\u001b[0m: 'map' object is not subscriptable"
          ]
        }
      ]
    },
    {
      "cell_type": "markdown",
      "source": [
        "# Least Squares in python\n",
        "\n",
        "Generate data using the scikit-learn library."
      ],
      "metadata": {
        "id": "kb0eXX3py05f"
      }
    },
    {
      "cell_type": "code",
      "metadata": {
        "id": "Y1yX-GjrKRZL"
      },
      "source": [
        "import sklearn\n",
        "from sklearn import datasets\n",
        "X, y, coefficients = sklearn.datasets.make_regression(\n",
        "    n_samples=50,\n",
        "    n_features=1,\n",
        "    n_informative=1,\n",
        "    n_targets=1,\n",
        "    noise=5,\n",
        "    coef=True,\n",
        "    random_state=1\n",
        ")"
      ],
      "execution_count": 31,
      "outputs": []
    },
    {
      "cell_type": "markdown",
      "source": [
        "Store the the rank and the number of columns of the matrix as variables."
      ],
      "metadata": {
        "id": "5vVQinvHzbzR"
      }
    },
    {
      "cell_type": "code",
      "metadata": {
        "id": "x8WmzFn9KTWC"
      },
      "source": [
        "n = X.shape[1]\n",
        "r = np.linalg.matrix_rank(X)"
      ],
      "execution_count": 32,
      "outputs": []
    },
    {
      "cell_type": "markdown",
      "source": [
        "Find the equivalent to our matrix of features using singular value decomposition"
      ],
      "metadata": {
        "id": "o4KMAA3XzfEL"
      }
    },
    {
      "cell_type": "code",
      "metadata": {
        "id": "K6aE0T2fJlwK"
      },
      "source": [
        "U, sigma, VT = np.linalg.svd(X, full_matrices=False)"
      ],
      "execution_count": 33,
      "outputs": []
    },
    {
      "cell_type": "markdown",
      "source": [
        "D+  can be derived from sigma"
      ],
      "metadata": {
        "id": "CMql4Z53zirP"
      }
    },
    {
      "cell_type": "code",
      "metadata": {
        "id": "0-pDQHa0JoNB"
      },
      "source": [
        "D_plus = np.diag(np.hstack([1/sigma[:r], np.zeros(n-r)]))"
      ],
      "execution_count": 34,
      "outputs": []
    },
    {
      "cell_type": "markdown",
      "source": [
        "V is of course equal to the transpose of its transpose as described in the following identity.\n",
        "\n",
        "Determine Moore-Penrose pseudoinverse of X."
      ],
      "metadata": {
        "id": "3WsRsp_czmYt"
      }
    },
    {
      "cell_type": "code",
      "metadata": {
        "id": "2BOlITWWJr_B"
      },
      "source": [
        "V=VT.T\n",
        "X_plus = V.dot(D_plus).dot(U.T)"
      ],
      "execution_count": 39,
      "outputs": []
    },
    {
      "cell_type": "markdown",
      "source": [
        "The vector of coefficients can be calculated by multiplying the pseudoinverse of the matrix X by y"
      ],
      "metadata": {
        "id": "BRW2GVErz6Or"
      }
    },
    {
      "cell_type": "code",
      "metadata": {
        "id": "pIW-TQAnJt-s"
      },
      "source": [
        "w = X_plus.dot(y)"
      ],
      "execution_count": 40,
      "outputs": []
    },
    {
      "cell_type": "markdown",
      "source": [
        "The actual error, we compute the residual sum of squares using the very first equation we saw."
      ],
      "metadata": {
        "id": "M1p1DiyBz-Ww"
      }
    },
    {
      "cell_type": "code",
      "metadata": {
        "id": "ToFKOU05Jz3D"
      },
      "source": [
        "error = np.linalg.norm(X.dot(w) - y, ord=2) ** 2"
      ],
      "execution_count": 41,
      "outputs": []
    },
    {
      "cell_type": "markdown",
      "source": [
        "All together:"
      ],
      "metadata": {
        "id": "Neu4FGca0Cbm"
      }
    },
    {
      "cell_type": "code",
      "metadata": {
        "colab": {
          "base_uri": "https://localhost:8080/"
        },
        "id": "E4irIj85JaXt",
        "outputId": "4c1dfa19-24b9-4bb1-e28d-b4ba3892c637"
      },
      "source": [
        "from sklearn.datasets import make_regression\n",
        "from matplotlib import pyplot as plt\n",
        "import numpy as np\n",
        "from sklearn.linear_model import LinearRegression\n",
        "\n",
        "X, y, coefficients = make_regression(\n",
        "    n_samples=50,\n",
        "    n_features=1,\n",
        "    n_informative=1,\n",
        "    n_targets=1,\n",
        "    noise=5,\n",
        "    coef=True,\n",
        "    random_state=1\n",
        ")\n",
        "\n",
        "n = X.shape[1]\n",
        "r = np.linalg.matrix_rank(X)\n",
        "\n",
        "U, sigma, VT = np.linalg.svd(X, full_matrices=False)\n",
        "\n",
        "D_plus = np.diag(np.hstack([1/sigma[:r], np.zeros(n-r)]))\n",
        "\n",
        "V = VT.T\n",
        "\n",
        "X_plus = V.dot(D_plus).dot(U.T)\n",
        "\n",
        "w = X_plus.dot(y)\n",
        "\n",
        "error = np.linalg.norm(X.dot(w) - y, ord=2) ** 2\n",
        "print(error)"
      ],
      "execution_count": 38,
      "outputs": [
        {
          "output_type": "stream",
          "name": "stdout",
          "text": [
            "888.9637001387936\n"
          ]
        }
      ]
    },
    {
      "cell_type": "markdown",
      "source": [
        "# Linear Regression in Python\n",
        "\n",
        "The second step is defining data to work with. The inputs (regressors, 𝑥) and output (predictor, 𝑦) should be arrays (the instances of the class numpy.ndarray) or similar objects. This is the simplest way of providing data for regression:\n",
        "\n",
        "Now, you have two arrays: the input x and output y. You should call .reshape() on x because this array is required to be two-dimensional, or to be more precise, to have one column and as many rows as necessary. That’s exactly what the argument (-1, 1) of .reshape() specifies.\n",
        "\n",
        "As you can see, x has two dimensions, and x.shape is (6, 1), while y has a single dimension, and y.shape is (6,).\n",
        "\n",
        "Let’s create an instance of the class LinearRegression, which will represent the regression mode\n",
        "\n",
        "This statement creates the variable model as the instance of LinearRegression. You can provide several optional parameters to LinearRegression\n",
        "\n",
        "With .fit(), you calculate the optimal values of the weights 𝑏₀ and 𝑏₁, using the existing input and output (x and y) as the arguments. In other words, .fit() fits the model. It returns self, which is the variable model itself. That’s why you can replace the last two statements with this one\n",
        "\n",
        "Once you have your model fitted, you can get the results to check whether the model works satisfactorily and interpret it.\n",
        "\n",
        "You can obtain the coefficient of determination (R2) with .score() called on model\n",
        "\n",
        "When you’re applying .score(), the arguments are also the predictor x and regressor y, and the return value is R2.\n",
        "\n",
        "The attributes of model are .intercept_, which represents the coefficient, b0 and .coef_, which represents b1\n",
        "\n",
        "The code above illustrates how to get b0 and b1. You can notice that .intercept_ is a scalar, while .coef_ is an array.\n",
        "\n",
        "The value b0 = 5.63 (approximately) illustrates that your model predicts the response 5.63 when x is zero. The value b1 = 0.54 means that the predicted response rises by 0.54 when x is increased by one.\n",
        "\n",
        "You should notice that you can provide y as a two-dimensional array as well. In this case, you’ll get a similar result. This is how it might look\n",
        "\n",
        "this example is very similar to the previous one, but in this case, .intercept_ is a one-dimensional array with the single element b0, and .coef_ is a two-dimensional array with the single element b1\n",
        "\n",
        "To obtain the predicted response, use .predict()\n",
        "\n",
        "When applying .predict(), you pass the regressor as the argument and get the corresponding predicted response.\n",
        "\n",
        "This is a nearly identical way to predict the response\n",
        "\n",
        "In this case, you multiply each element of x with model.coef_ and add model.intercept_ to the product.\n",
        "\n",
        "The output here differs from the previous example only in dimensions. The predicted response is now a two-dimensional array, while in the previous case, it had one dimension.\n",
        "\n",
        "If you reduce the number of dimensions of x to one, these two approaches will yield the same result. You can do this by replacing x with x.reshape(-1), x.flatten(), or x.ravel() when multiplying it with model.coef_.\n",
        "\n",
        "In practice, regression models are often applied for forecasts. This means that you can use fitted models to calculate the outputs based on some other, new inputs"
      ],
      "metadata": {
        "id": "rHNaokAp0RX6"
      }
    },
    {
      "cell_type": "code",
      "metadata": {
        "colab": {
          "base_uri": "https://localhost:8080/"
        },
        "id": "T1zyvTI9NuGM",
        "outputId": "447380b1-0b51-4de3-a8f2-646f557e73ce"
      },
      "source": [
        "import numpy as np\n",
        "from sklearn.linear_model import LinearRegression\n",
        "\n",
        "x = np.array([5, 15, 25, 35, 45, 55]).reshape((-1, 1))\n",
        "y = np.array([5, 20, 14, 32, 22, 38])\n",
        "print(x)\n",
        "print(y)\n",
        "\n",
        "model = LinearRegression()\n",
        "\n",
        "model.fit(x, y)\n",
        "\n",
        "model = LinearRegression().fit(x, y)\n",
        "\n",
        "r_sq = model.score(x, y)\n",
        "print('coefficient of determination:', r_sq)\n",
        "print('intercept:', model.intercept_)\n",
        "print('slope:', model.coef_)\n",
        "\n",
        "new_model = LinearRegression().fit(x, y.reshape((-1, 1)))\n",
        "print('intercept:', new_model.intercept_)\n",
        "print('slope:', new_model.coef_)\n",
        "\n",
        "y_pred = model.predict(x)\n",
        "print('predicted response:', y_pred, sep='\\n')\n",
        "\n",
        "y_pred = model.intercept_ + model.coef_ * x\n",
        "print('predicted response:', y_pred, sep='\\n')\n",
        "\n",
        "x_new = np.arange(5).reshape((-1, 1))\n",
        "print(x_new)\n",
        "y_new = model.predict(x_new)\n",
        "print(y_new)"
      ],
      "execution_count": 42,
      "outputs": [
        {
          "output_type": "stream",
          "name": "stdout",
          "text": [
            "[[ 5]\n",
            " [15]\n",
            " [25]\n",
            " [35]\n",
            " [45]\n",
            " [55]]\n",
            "[ 5 20 14 32 22 38]\n",
            "coefficient of determination: 0.7158756137479542\n",
            "intercept: 5.633333333333329\n",
            "slope: [0.54]\n",
            "intercept: [5.63333333]\n",
            "slope: [[0.54]]\n",
            "predicted response:\n",
            "[ 8.33333333 13.73333333 19.13333333 24.53333333 29.93333333 35.33333333]\n",
            "predicted response:\n",
            "[[ 8.33333333]\n",
            " [13.73333333]\n",
            " [19.13333333]\n",
            " [24.53333333]\n",
            " [29.93333333]\n",
            " [35.33333333]]\n",
            "[[0]\n",
            " [1]\n",
            " [2]\n",
            " [3]\n",
            " [4]]\n",
            "[5.63333333 6.17333333 6.71333333 7.25333333 7.79333333]\n"
          ]
        }
      ]
    },
    {
      "cell_type": "markdown",
      "source": [
        "\n",
        "# Singular Value Decompostion"
      ],
      "metadata": {
        "id": "EAe08tsY0nV1"
      }
    },
    {
      "cell_type": "code",
      "metadata": {
        "id": "CsrnDLZ5u2tG"
      },
      "source": [
        "import numpy as np\n",
        "from sklearn.datasets import load_digits\n",
        "from matplotlib import pyplot as plt\n",
        "from sklearn.decomposition import TruncatedSVD\n",
        "float_formatter = lambda x: \"%.2f\" % x\n",
        "np.set_printoptions(formatter={'float_kind':float_formatter})\n",
        "from sklearn.ensemble import RandomForestClassifier"
      ],
      "execution_count": 43,
      "outputs": []
    },
    {
      "cell_type": "code",
      "metadata": {
        "id": "EfW9FWlewXxG"
      },
      "source": [
        "X, y = load_digits(return_X_y=True)"
      ],
      "execution_count": 44,
      "outputs": []
    },
    {
      "cell_type": "markdown",
      "source": [
        "The dataset contains 1797 8x8 images. If you specify return_X_y=True the function will return the pixels as a one dimensional array."
      ],
      "metadata": {
        "id": "adBZOxrQ0tQP"
      }
    },
    {
      "cell_type": "code",
      "metadata": {
        "colab": {
          "base_uri": "https://localhost:8080/"
        },
        "id": "WT7OhPykwche",
        "outputId": "c9feb41b-4439-46e0-c3de-765c425d8482"
      },
      "source": [
        "X.shape"
      ],
      "execution_count": 45,
      "outputs": [
        {
          "output_type": "execute_result",
          "data": {
            "text/plain": [
              "(1797, 64)"
            ]
          },
          "metadata": {},
          "execution_count": 45
        }
      ]
    },
    {
      "cell_type": "code",
      "metadata": {
        "colab": {
          "base_uri": "https://localhost:8080/"
        },
        "id": "nQU37bZjwdGn",
        "outputId": "85e6a0a6-77c5-4b24-a366-c2067b3a208a"
      },
      "source": [
        "y"
      ],
      "execution_count": 46,
      "outputs": [
        {
          "output_type": "execute_result",
          "data": {
            "text/plain": [
              "array([0, 1, 2, ..., 8, 9, 8])"
            ]
          },
          "metadata": {},
          "execution_count": 46
        }
      ]
    },
    {
      "cell_type": "markdown",
      "source": [
        "Let’s take a look at the first digit. As we can see, it’s simply an array of length 64 containing the pixel intensities."
      ],
      "metadata": {
        "id": "04zCNAXS0zRG"
      }
    },
    {
      "cell_type": "code",
      "metadata": {
        "id": "89g83FiBwff7"
      },
      "source": [
        "image = X[0]"
      ],
      "execution_count": 47,
      "outputs": []
    },
    {
      "cell_type": "code",
      "metadata": {
        "colab": {
          "base_uri": "https://localhost:8080/",
          "height": 292
        },
        "id": "HI0fMExxwg-b",
        "outputId": "3d02be7d-bf8e-4e73-c21b-183a10559b02"
      },
      "source": [
        "image = image.reshape((8, 8))\n",
        "plt.matshow(image, cmap = 'magma')"
      ],
      "execution_count": 48,
      "outputs": [
        {
          "output_type": "execute_result",
          "data": {
            "text/plain": [
              "<matplotlib.image.AxesImage at 0x7fd76d819d90>"
            ]
          },
          "metadata": {},
          "execution_count": 48
        },
        {
          "output_type": "display_data",
          "data": {
            "image/png": "[encoded data removed]",
            "text/plain": [
              "<Figure size 288x288 with 1 Axes>"
            ]
          },
          "metadata": {
            "needs_background": "light"
          }
        }
      ]
    },
    {
      "cell_type": "markdown",
      "source": [
        "Next, we’ll use Singular Value Decomposition to see whether we are able to reconstruct the image using only 2 features for each row. The s matrix returned by the function must be converted into a diagonal matrix using the diag method. By default, diag will create a matrix that is n x n, relative to the original matrix. This causes a problem as the size of the matrices no longer follow the rule of matrix multiplication where the number of columns in a matrix must match the number of rows in the other matrix. Therefore, we create a new m x n matrix and populate the first n x n part of it with the diagonal matrix."
      ],
      "metadata": {
        "id": "NL_me-Xb05oR"
      }
    },
    {
      "cell_type": "code",
      "metadata": {
        "colab": {
          "base_uri": "https://localhost:8080/"
        },
        "id": "FjgIV6Vgwi1Z",
        "outputId": "0c67bb6d-6493-414c-82cc-58dae2f9d819"
      },
      "source": [
        "U, s, V = np.linalg.svd(image)\n",
        "S = np.zeros((image.shape[0], image.shape[1]))\n",
        "S[:image.shape[0], :image.shape[0]] = np.diag(s)\n",
        "n_component = 2\n",
        "S = S[:, :n_component]\n",
        "V = V[:n_component, :]\n",
        "A = U.dot(S.dot(V))\n",
        "print(A)"
      ],
      "execution_count": 49,
      "outputs": [
        {
          "output_type": "stream",
          "name": "stdout",
          "text": [
            "[[0.00 -1.10 4.74 12.16 9.52 2.44 -1.33 0.00]\n",
            " [0.00 1.81 15.31 13.79 11.23 12.27 4.48 0.00]\n",
            " [0.00 3.86 13.36 1.19 1.49 12.59 7.65 0.00]\n",
            " [0.00 3.39 10.76 -0.35 0.20 10.36 6.61 0.00]\n",
            " [0.00 3.11 9.52 -0.85 -0.24 9.26 6.04 0.00]\n",
            " [0.00 3.61 11.79 0.12 0.60 11.27 7.07 0.00]\n",
            " [0.00 2.08 12.63 8.58 7.13 10.60 4.66 0.00]\n",
            " [0.00 -1.18 4.88 12.71 9.96 2.47 -1.44 0.00]]\n"
          ]
        }
      ]
    },
    {
      "cell_type": "code",
      "metadata": {
        "colab": {
          "base_uri": "https://localhost:8080/",
          "height": 292
        },
        "id": "nvd7aQOmwksL",
        "outputId": "7947ea42-cd6c-4a20-af6e-d9967880604b"
      },
      "source": [
        "plt.matshow(A, cmap = 'magma')"
      ],
      "execution_count": 50,
      "outputs": [
        {
          "output_type": "execute_result",
          "data": {
            "text/plain": [
              "<matplotlib.image.AxesImage at 0x7fd76db09750>"
            ]
          },
          "metadata": {},
          "execution_count": 50
        },
        {
          "output_type": "display_data",
          "data": {
            "image/png": "[encoded data removed]",
            "text/plain": [
              "<Figure size 288x288 with 1 Axes>"
            ]
          },
          "metadata": {
            "needs_background": "light"
          }
        }
      ]
    },
    {
      "cell_type": "markdown",
      "source": [
        "We can get the reduced feature space by taking the dot product of the U and S matrices."
      ],
      "metadata": {
        "id": "ZG3Q8XhD0_98"
      }
    },
    {
      "cell_type": "code",
      "metadata": {
        "colab": {
          "base_uri": "https://localhost:8080/"
        },
        "id": "RiPKkQZFwmSg",
        "outputId": "5b65f8e1-a24c-46e6-ba7c-acd5f40a0e09"
      },
      "source": [
        "U.dot(S)"
      ],
      "execution_count": 51,
      "outputs": [
        {
          "output_type": "execute_result",
          "data": {
            "text/plain": [
              "array([[10.97, -12.23],\n",
              "       [26.04, -6.82],\n",
              "       [18.73, 7.95],\n",
              "       [14.60, 8.08],\n",
              "       [12.72, 7.84],\n",
              "       [16.19, 8.21],\n",
              "       [20.45, -2.05],\n",
              "       [11.36, -12.85]])"
            ]
          },
          "metadata": {},
          "execution_count": 51
        }
      ]
    },
    {
      "cell_type": "markdown",
      "source": [
        "**Another Singular Value Decompostion example**"
      ],
      "metadata": {
        "id": "iM9rqmUU1EKf"
      }
    },
    {
      "cell_type": "code",
      "metadata": {
        "colab": {
          "base_uri": "https://localhost:8080/",
          "height": 373
        },
        "id": "0aouFwDDzq2t",
        "outputId": "106dc6eb-a482-4ec5-bf81-11fe3c45b49c"
      },
      "source": [
        "from numpy.linalg import eigh\n",
        "import time\n",
        "import scipy.sparse\n",
        "import numpy as np\n",
        "from django.contrib import admin\n",
        "from django.urls import path, include\n",
        "from django.apps import AppConfig\n",
        "class UiConfig(AppConfig):\n",
        "      name = 'ui'\n",
        "\n",
        "from ui.base import PyMFBase3, eighk\n",
        "\n",
        "try:\n",
        "    import scipy.sparse.linalg.eigen.arpack as linalg\n",
        "except (ImportError, AttributeError):\n",
        "    import scipy.sparse.linalg as linalg\n",
        "\n",
        "\n",
        "def pinv(A, k=-1, eps= np.finfo(float).eps):    \n",
        "    # Compute Pseudoinverse of a matrix   \n",
        "    svd_mdl =  SVD(A, k=k)\n",
        "    svd_mdl.factorize()\n",
        "    \n",
        "    S = svd_mdl.S\n",
        "    Sdiag = S.diagonal()\n",
        "    Sdiag = np.where(Sdiag>eps, 1.0/Sdiag, 0.0)\n",
        "    \n",
        "    for i in range(S.shape[0]):\n",
        "        S[i,i] = Sdiag[i]\n",
        "\n",
        "    if scipy.sparse.issparse(A):            \n",
        "        A_p = svd_mdl.V.transpose() * (S * svd_mdl.U.transpose())\n",
        "    else:    \n",
        "        A_p = np.dot(svd_mdl.V.T, np.core.multiply(np.diag(S)[:,np.newaxis], svd_mdl.U.T))\n",
        "\n",
        "    return A_p\n",
        "\n",
        "\n",
        "class SVD(PyMFBase3):    \n",
        " \n",
        "\n",
        "  data = np.array([[1.0, 0.0, 2.0], [0.0, 1.0, 1.0]])\n",
        "  svd_mdl = SVD(data)    \n",
        "  svd_mdl.factorize()\n",
        "\n",
        "\n",
        "  def _compute_S(self, values):\n",
        "      \n",
        "\n",
        "      self.S = np.diag(np.sqrt(values))\n",
        "        \n",
        "      # and the inverse of it\n",
        "      S_inv = np.diag(np.sqrt(values)**-1.0)\n",
        "      return S_inv\n",
        "\n",
        "   \n",
        "  def factorize(self):    \n",
        "\n",
        "       def _right_svd():            \n",
        "           AA = np.dot(self.data[:,:], self.data[:,:].T)\n",
        "                   # argsort sorts in ascending order -> access is backwards\n",
        "           values, self.U = eighk(AA, k=self._k)\n",
        "\n",
        "            # compute S\n",
        "           self.S = np.diag(np.sqrt(values))\n",
        "            \n",
        "            # and the inverse of it\n",
        "           S_inv = self._compute_S(values)\n",
        "                    \n",
        "            # compute V from it\n",
        "           self.V = np.dot(S_inv, np.dot(self.U[:,:].T, self.data[:,:]))    \n",
        "            \n",
        "        \n",
        "       def _left_svd():\n",
        "            AA = np.dot(self.data[:,:].T, self.data[:,:])\n",
        "            \n",
        "            values, Vtmp = eighk(AA, k=self._k)\n",
        "            self.V = Vtmp.T \n",
        "\n",
        "            # and the inverse of it\n",
        "            S_inv = self._compute_S(values)\n",
        "\n",
        "            self.U = np.dot(np.dot(self.data[:,:], self.V.T), S_inv)                \n",
        "    \n",
        "       def _sparse_right_svd():\n",
        "            ## for some reasons arpack does not allow computation of rank(A) eigenvectors (??)    #\n",
        "           AA = self.data*self.data.transpose()\n",
        "            \n",
        "           if self.data.shape[0] > 1:                    \n",
        "                # only compute a few eigenvectors ...\n",
        "              if self._k > 0 and self._k < self.data.shape[0]-1:\n",
        "                   k = self._k\n",
        "              else:\n",
        "                  k = self.data.shape[0]-1\n",
        "                  values, u_vectors = linalg.eigsh(AA,k=k)\n",
        "           else:                \n",
        "               values, u_vectors = eigh(AA.todense())\n",
        "            \n",
        "            # get rid of negative/too low eigenvalues   \n",
        "               s = np.where(values > self._EPS)[0]\n",
        "               u_vectors = u_vectors[:, s] \n",
        "               values = values[s]\n",
        "            \n",
        "            # sort eigenvectors according to largest value\n",
        "            # argsort sorts in ascending order -> access is backwards\n",
        "               idx = np.argsort(values)[::-1]\n",
        "               values = values[idx]                        \n",
        "            \n",
        "               self.U = scipy.sparse.csc_matrix(u_vectors[:,idx])\n",
        "                    \n",
        "            # compute S\n",
        "               tmp_val = np.sqrt(values)            \n",
        "               l = len(idx)\n",
        "               self.S = scipy.sparse.spdiags(tmp_val, 0, l, l,format='csc') \n",
        "            \n",
        "            # and the inverse of it            \n",
        "               S_inv = scipy.sparse.spdiags(1.0/tmp_val, 0, l, l,format='csc')\n",
        "            \n",
        "            # compute V from it\n",
        "               self.V = self.U.transpose() * self.data\n",
        "               self.V = S_inv * self.V\n",
        "    \n",
        "       def _sparse_left_svd():        \n",
        "            # for some reasons arpack does not allow computation of rank(A) eigenvectors (??)\n",
        "           AA = self.data.transpose()*self.data\n",
        "    \n",
        "           if self.data.shape[1] > 1:                \n",
        "                # do not compute full rank if desired\n",
        "               if self._k > 0 and self._k < AA.shape[1]-1:\n",
        "                  k = self._k\n",
        "               else:\n",
        "                  k = self.data.shape[1]-1\n",
        "                \n",
        "               values, v_vectors = linalg.eigsh(AA,k=k)                    \n",
        "           else:                \n",
        "               values, v_vectors = eigh(AA.todense())    \n",
        "           \n",
        "            # get rid of negative/too low eigenvalues   \n",
        "           s = np.where(values > self._EPS)[0]\n",
        "           v_vectors = v_vectors[:, s] \n",
        "           values = values[s]\n",
        "            \n",
        "            # sort eigenvectors according to largest value\n",
        "           idx = np.argsort(values)[::-1]                  \n",
        "           values = values[idx]\n",
        "            \n",
        "            # argsort sorts in ascending order -> access is backwards            \n",
        "           self.V = scipy.sparse.csc_matrix(v_vectors[:,idx])      \n",
        "            \n",
        "            # compute S\n",
        "           tmp_val = np.sqrt(values)            \n",
        "           l = len(idx)      \n",
        "           self.S = scipy.sparse.spdiags(tmp_val, 0, l, l,format='csc') \n",
        "            \n",
        "            # and the inverse of it                                         \n",
        "           S_inv = scipy.sparse.spdiags(1.0/tmp_val, 0, l, l,format='csc')\n",
        "            \n",
        "           self.U = self.data * self.V * S_inv        \n",
        "           self.V = self.V.transpose()           \n",
        "        \n",
        "       if self._rows >= self._cols:\n",
        "          if scipy.sparse.issparse(self.data):                \n",
        "               _sparse_left_svd()\n",
        "          else:            \n",
        "              _left_svd()\n",
        "       else:\n",
        "           if scipy.sparse.issparse(self.data):\n",
        "              _sparse_right_svd()\n",
        "           else:            \n",
        "               _right_svd()\n",
        "\n",
        "def _test():\n",
        "    import doctest\n",
        "    doctest.testmod()\n",
        " \n"
      ],
      "execution_count": 53,
      "outputs": [
        {
          "output_type": "error",
          "ename": "ModuleNotFoundError",
          "evalue": "ignored",
          "traceback": [
            "\u001b[0;31m---------------------------------------------------------------------------\u001b[0m",
            "\u001b[0;31mModuleNotFoundError\u001b[0m                       Traceback (most recent call last)",
            "\u001b[0;32m<ipython-input-53-bd146169d899>\u001b[0m in \u001b[0;36m<module>\u001b[0;34m()\u001b[0m\n\u001b[1;32m      3\u001b[0m \u001b[0;32mimport\u001b[0m \u001b[0mscipy\u001b[0m\u001b[0;34m.\u001b[0m\u001b[0msparse\u001b[0m\u001b[0;34m\u001b[0m\u001b[0;34m\u001b[0m\u001b[0m\n\u001b[1;32m      4\u001b[0m \u001b[0;32mimport\u001b[0m \u001b[0mnumpy\u001b[0m \u001b[0;32mas\u001b[0m \u001b[0mnp\u001b[0m\u001b[0;34m\u001b[0m\u001b[0;34m\u001b[0m\u001b[0m\n\u001b[0;32m----> 5\u001b[0;31m \u001b[0;32mfrom\u001b[0m \u001b[0mdjango\u001b[0m\u001b[0;34m.\u001b[0m\u001b[0mcontrib\u001b[0m \u001b[0;32mimport\u001b[0m \u001b[0madmin\u001b[0m\u001b[0;34m\u001b[0m\u001b[0;34m\u001b[0m\u001b[0m\n\u001b[0m\u001b[1;32m      6\u001b[0m \u001b[0;32mfrom\u001b[0m \u001b[0mdjango\u001b[0m\u001b[0;34m.\u001b[0m\u001b[0murls\u001b[0m \u001b[0;32mimport\u001b[0m \u001b[0mpath\u001b[0m\u001b[0;34m,\u001b[0m \u001b[0minclude\u001b[0m\u001b[0;34m\u001b[0m\u001b[0;34m\u001b[0m\u001b[0m\n\u001b[1;32m      7\u001b[0m \u001b[0;32mfrom\u001b[0m \u001b[0mdjango\u001b[0m\u001b[0;34m.\u001b[0m\u001b[0mapps\u001b[0m \u001b[0;32mimport\u001b[0m \u001b[0mAppConfig\u001b[0m\u001b[0;34m\u001b[0m\u001b[0;34m\u001b[0m\u001b[0m\n",
            "\u001b[0;31mModuleNotFoundError\u001b[0m: No module named 'django'",
            "",
            "\u001b[0;31m---------------------------------------------------------------------------\u001b[0;32m\nNOTE: If your import is failing due to a missing package, you can\nmanually install dependencies using either !pip or !apt.\n\nTo view examples of installing some common dependencies, click the\n\"Open Examples\" button below.\n\u001b[0;31m---------------------------------------------------------------------------\u001b[0m\n"
          ],
          "errorDetails": {
            "actions": [
              {
                "action": "open_url",
                "actionText": "Open Examples",
                "url": "/notebooks/snippets/importing_libraries.ipynb"
              }
            ]
          }
        }
      ]
    },
    {
      "cell_type": "markdown",
      "source": [
        "# Principal Component Analysis"
      ],
      "metadata": {
        "id": "Hd6nRBud1mSP"
      }
    },
    {
      "cell_type": "code",
      "metadata": {
        "id": "oWczSab28hCZ"
      },
      "source": [
        "import pandas as pd\n",
        "url = \"https://archive.ics.uci.edu/ml/machine-learning-databases/iris/iris.data\"\n",
        "# load dataset into Pandas DataFrame\n",
        "df = pd.read_csv(url, names=['sepal length','sepal width','petal length','petal width','target'])\n",
        "from sklearn.preprocessing import StandardScaler\n",
        "features = ['sepal length', 'sepal width', 'petal length', 'petal width']\n",
        "# Separating out the features\n",
        "x = df.loc[:, features].values\n",
        "# Separating out the target\n",
        "y = df.loc[:,['target']].values\n",
        "# Standardizing the features\n",
        "x = StandardScaler().fit_transform(x)"
      ],
      "execution_count": 54,
      "outputs": []
    },
    {
      "cell_type": "code",
      "metadata": {
        "id": "lk3giDe38sly"
      },
      "source": [
        "from sklearn.decomposition import PCA\n",
        "pca = PCA(n_components=2)\n",
        "principalComponents = pca.fit_transform(x)\n",
        "principalDf = pd.DataFrame(data = principalComponents\n",
        "             , columns = ['principal component 1', 'principal component 2'])"
      ],
      "execution_count": 55,
      "outputs": []
    },
    {
      "cell_type": "code",
      "metadata": {
        "id": "dQSqSHHR8uEJ"
      },
      "source": [
        "finalDf = pd.concat([principalDf, df[['target']]], axis = 1)"
      ],
      "execution_count": 56,
      "outputs": []
    },
    {
      "cell_type": "code",
      "metadata": {
        "colab": {
          "base_uri": "https://localhost:8080/",
          "height": 523
        },
        "id": "hYQgNvUR8vk7",
        "outputId": "a71fb17e-b562-41ab-a88b-748cfaab9bde"
      },
      "source": [
        "fig = plt.figure(figsize = (8,8))\n",
        "ax = fig.add_subplot(1,1,1) \n",
        "ax.set_xlabel('Principal Component 1', fontsize = 15)\n",
        "ax.set_ylabel('Principal Component 2', fontsize = 15)\n",
        "ax.set_title('2 component PCA', fontsize = 20)\n",
        "targets = ['Iris-setosa', 'Iris-versicolor', 'Iris-virginica']\n",
        "colors = ['b', 'r', 'g']\n",
        "for target, color in zip(targets,colors):\n",
        "    indicesToKeep = finalDf['target'] == target\n",
        "    ax.scatter(finalDf.loc[indicesToKeep, 'principal component 1']\n",
        "               , finalDf.loc[indicesToKeep, 'principal component 2']\n",
        "               , c = color\n",
        "               , s = 50)\n",
        "ax.legend(targets)\n",
        "ax.grid()"
      ],
      "execution_count": 57,
      "outputs": [
        {
          "output_type": "display_data",
          "data": {
            "image/png": "[encoded data removed]",
            "text/plain": [
              "<Figure size 576x576 with 1 Axes>"
            ]
          },
          "metadata": {
            "needs_background": "light"
          }
        }
      ]
    }
  ]
}