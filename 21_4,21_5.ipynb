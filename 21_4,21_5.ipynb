{
  "nbformat": 4,
  "nbformat_minor": 0,
  "metadata": {
    "colab": {
      "name": "21.4,21.5.ipynb",
      "provenance": [],
      "authorship_tag": "ABX9TyNi/r199kHTwc5ImszxJwEW",
      "include_colab_link": true
    },
    "kernelspec": {
      "name": "python3",
      "display_name": "Python 3"
    },
    "language_info": {
      "name": "python"
    }
  },
  "cells": [
    {
      "cell_type": "markdown",
      "metadata": {
        "id": "view-in-github",
        "colab_type": "text"
      },
      "source": [
        "<a href=\"https://colab.research.google.com/github/isaacd68/MAT421/blob/main/21_4%2C21_5.ipynb\" target=\"_parent\"><img src=\"https://colab.research.google.com/assets/colab-badge.svg\" alt=\"Open In Colab\"/></a>"
      ]
    },
    {
      "cell_type": "markdown",
      "source": [
        "# **Simpson’s Rule**"
      ],
      "metadata": {
        "id": "zxSGXN7_jNaW"
      }
    },
    {
      "cell_type": "markdown",
      "source": [
        "In this python program, lower_limit and upper_limit are lower and upper limit of integration, sub_interval is number of sub interval used while finding sum and function f(x) to be integrated by Simpson 1/3 method is defined using python function definition def f(x):\n",
        "\n"
      ],
      "metadata": {
        "id": "OMiDnsAejz13"
      }
    },
    {
      "cell_type": "code",
      "source": [
        "# Simpson's 1/3 Rule\n",
        "\n",
        "# Define function to integrate\n",
        "def f(x):\n",
        "    return 1/(1 + x**2)\n",
        "\n",
        "# Implementing Simpson's 1/3 \n",
        "def simpson13(x0,xn,n):\n",
        "    # calculating step size\n",
        "    h = (xn - x0) / n\n",
        "    \n",
        "    # Finding sum \n",
        "    integration = f(x0) + f(xn)\n",
        "    \n",
        "    for i in range(1,n):\n",
        "        k = x0 + i*h\n",
        "        \n",
        "        if i%2 == 0:\n",
        "            integration = integration + 2 * f(k)\n",
        "        else:\n",
        "            integration = integration + 4 * f(k)\n",
        "    \n",
        "    # Finding final integration value\n",
        "    integration = integration * h/3\n",
        "    \n",
        "    return integration\n",
        "    \n",
        "# Input section\n",
        "lower_limit = float(input(\"Enter lower limit of integration: \"))\n",
        "upper_limit = float(input(\"Enter upper limit of integration: \"))\n",
        "sub_interval = int(input(\"Enter number of sub intervals: \"))\n",
        "\n",
        "# Call trapezoidal() method and get result\n",
        "result = simpson13(lower_limit, upper_limit, sub_interval)\n",
        "print(\"Integration result by Simpson's 1/3 method is: %0.6f\" % (result) )"
      ],
      "metadata": {
        "colab": {
          "base_uri": "https://localhost:8080/"
        },
        "id": "n06M5gMljd3H",
        "outputId": "17e1308e-6d1d-4ad9-b282-289e05f606f6"
      },
      "execution_count": 10,
      "outputs": [
        {
          "output_type": "stream",
          "name": "stdout",
          "text": [
            "Enter lower limit of integration: 0\n",
            "Enter upper limit of integration: 1\n",
            "Enter number of sub intervals: 6\n",
            "Integration result by Simpson's 1/3 method is: 0.785398\n"
          ]
        }
      ]
    },
    {
      "cell_type": "markdown",
      "source": [
        "# Computing Integrals in Python"
      ],
      "metadata": {
        "id": "mhyuIv2VkD7C"
      }
    },
    {
      "cell_type": "markdown",
      "source": [
        "integrating the quadratic function f(x) = x² from 0 to 1."
      ],
      "metadata": {
        "id": "a-5DEAsNkM7F"
      }
    },
    {
      "cell_type": "code",
      "source": [
        "# Dependencies\n",
        "import numpy as np\n",
        "import scipy.integrate as integrate\n",
        "import matplotlib.pyplot as plt\n",
        "# Our integral approximation function\n",
        "def integral_approximation(f, a, b):\n",
        "    return (b-a)*np.mean(f)\n",
        "# Integrate f(x) = x^2\n",
        "def f1(x):\n",
        "    return x**2\n",
        "# Define bounds of integral\n",
        "a = 0\n",
        "b = 1\n",
        "# Generate function values\n",
        "x_range = np.arange(a,b+0.0001,.0001)\n",
        "fx = f1(x_range)\n",
        "# Approximate integral\n",
        "approx = integral_approximation(fx,a,b)\n",
        "approx"
      ],
      "metadata": {
        "colab": {
          "base_uri": "https://localhost:8080/"
        },
        "id": "HfMFBdzmj19Z",
        "outputId": "ca9e1b9a-a367-42d8-96a7-84c3216a3b21"
      },
      "execution_count": 5,
      "outputs": [
        {
          "output_type": "execute_result",
          "data": {
            "text/plain": [
              "0.33335"
            ]
          },
          "metadata": {},
          "execution_count": 5
        }
      ]
    },
    {
      "cell_type": "code",
      "source": [
        "# Scipy approximation\n",
        "integrate.quad(f1,a,b)"
      ],
      "metadata": {
        "colab": {
          "base_uri": "https://localhost:8080/"
        },
        "id": "sLfTr9qEkIjp",
        "outputId": "59fee324-fda7-4815-d124-2fc229b82d72"
      },
      "execution_count": 6,
      "outputs": [
        {
          "output_type": "execute_result",
          "data": {
            "text/plain": [
              "(0.33333333333333337, 3.700743415417189e-15)"
            ]
          },
          "metadata": {},
          "execution_count": 6
        }
      ]
    },
    {
      "cell_type": "markdown",
      "source": [
        "The gaussian function is notorious for being extremely difficult to integrate. In this example, we will put our method to the test by integrating the standard normal distribution."
      ],
      "metadata": {
        "id": "5RsGmveHkRkq"
      }
    },
    {
      "cell_type": "code",
      "source": [
        "# Integrating a random function\n",
        "np.random.seed(42)\n",
        "def gaussian(x, mu, sigma):\n",
        "    return np.exp((-1*(x - mu)**2) / (2 * sigma**2))\n",
        "# Define mu and sigma\n",
        "mu = 0\n",
        "sigma = 1\n",
        "# Define bounds of integral\n",
        "a = -3\n",
        "b = 3\n",
        "# Generate function values\n",
        "x_range = np.linspace(-3,3,200)\n",
        "fx = gaussian(x_range, mu, sigma)"
      ],
      "metadata": {
        "id": "ObvbOhGrkSNi"
      },
      "execution_count": 7,
      "outputs": []
    },
    {
      "cell_type": "code",
      "source": [
        "# Our approximation\n",
        "approx = integral_approximation(fx,a,b)\n",
        "approx"
      ],
      "metadata": {
        "colab": {
          "base_uri": "https://localhost:8080/"
        },
        "id": "HKkXzTf1kUnt",
        "outputId": "fc8735ba-b168-4dc3-ac87-eebeb4f0cfa9"
      },
      "execution_count": 8,
      "outputs": [
        {
          "output_type": "execute_result",
          "data": {
            "text/plain": [
              "2.4876898312192597"
            ]
          },
          "metadata": {},
          "execution_count": 8
        }
      ]
    },
    {
      "cell_type": "markdown",
      "source": [
        "Comparing to the Scipy solution:"
      ],
      "metadata": {
        "id": "91IpMYVOkYMQ"
      }
    },
    {
      "cell_type": "code",
      "source": [
        "# Scipy approximation\n",
        "integrate.quad(lambda x: np.exp((-1*(x - mu)**2) / (2 * sigma**2)),a,b)"
      ],
      "metadata": {
        "colab": {
          "base_uri": "https://localhost:8080/"
        },
        "id": "CWYzoiRHkZo5",
        "outputId": "a52f004c-2104-44ff-e914-ee9cb7d3fe5b"
      },
      "execution_count": 9,
      "outputs": [
        {
          "output_type": "execute_result",
          "data": {
            "text/plain": [
              "(2.4998608894830947, 2.7754031051049595e-14)"
            ]
          },
          "metadata": {},
          "execution_count": 9
        }
      ]
    }
  ]
}