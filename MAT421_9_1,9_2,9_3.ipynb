{
  "nbformat": 4,
  "nbformat_minor": 0,
  "metadata": {
    "colab": {
      "name": "MAT421-9.1,9.2,9.3.ipynb",
      "provenance": []
    },
    "kernelspec": {
      "name": "python3",
      "display_name": "Python 3"
    },
    "language_info": {
      "name": "python"
    }
  },
  "cells": [
    {
      "cell_type": "markdown",
      "source": [
        "# **Base N and Binary**"
      ],
      "metadata": {
        "id": "Fk0qMJB-wCxm"
      }
    },
    {
      "cell_type": "code",
      "execution_count": 1,
      "metadata": {
        "colab": {
          "base_uri": "https://localhost:8080/"
        },
        "id": "7rAlyJhOvcMp",
        "outputId": "9773c164-adca-4916-b0f1-7c22ca972d5d"
      },
      "outputs": [
        {
          "output_type": "stream",
          "name": "stdout",
          "text": [
            "0b1100100\n"
          ]
        }
      ],
      "source": [
        "# Python code to demonstrate working of\n",
        "# bin()\n",
        " \n",
        "# declare variable\n",
        "num = 100\n",
        " \n",
        "# print binary number\n",
        "print(bin(num))"
      ]
    },
    {
      "cell_type": "code",
      "source": [
        "\n",
        "# Python code to demonstrate working of\n",
        "# bin()\n",
        " \n",
        "# function returning binary string\n",
        "def Binary(n):\n",
        "    s = bin(n)\n",
        " \n",
        "    # removing \"0b\" prefix\n",
        "    s1 = s[2:]\n",
        "    return s1\n",
        " \n",
        "print(\"The binary representation of 100 (using bin()) is : \", end=\"\")\n",
        "print(Binary(100))"
      ],
      "metadata": {
        "colab": {
          "base_uri": "https://localhost:8080/"
        },
        "id": "bGhyjbiJvrAz",
        "outputId": "7b72db68-2578-4f32-f4a9-ca9bc2f6ba62"
      },
      "execution_count": 2,
      "outputs": [
        {
          "output_type": "stream",
          "name": "stdout",
          "text": [
            "The binary representation of 100 (using bin()) is : 1100100\n"
          ]
        }
      ]
    },
    {
      "cell_type": "code",
      "source": [
        "\n",
        "# Python code to demonstrate working of\n",
        "# bin()\n",
        "class number:\n",
        "    num = 100\n",
        " \n",
        "    def __index__(self):\n",
        "        return(self.num)\n",
        " \n",
        "print(bin(number()))"
      ],
      "metadata": {
        "colab": {
          "base_uri": "https://localhost:8080/"
        },
        "id": "c1tuaq0zvtg7",
        "outputId": "658d2115-18f5-4eb8-d926-a2d696a0b11b"
      },
      "execution_count": 3,
      "outputs": [
        {
          "output_type": "stream",
          "name": "stdout",
          "text": [
            "0b1100100\n"
          ]
        }
      ]
    },
    {
      "cell_type": "markdown",
      "source": [
        "# Floating Point Numbers"
      ],
      "metadata": {
        "id": "q2LITKgYwH07"
      }
    },
    {
      "cell_type": "code",
      "source": [
        "\n",
        "# Python code to demonstrate float values.\n",
        "  \n",
        "print(1.7e308)\n",
        "  \n",
        "# greater than 1.8 * 10^308\n",
        "# will print 'inf'\n",
        "print(1.82e308)"
      ],
      "metadata": {
        "colab": {
          "base_uri": "https://localhost:8080/"
        },
        "id": "IGuzkYd-wMCs",
        "outputId": "a54e0759-6099-4e04-e385-fa428d7fd870"
      },
      "execution_count": 4,
      "outputs": [
        {
          "output_type": "stream",
          "name": "stdout",
          "text": [
            "1.7e+308\n",
            "inf\n"
          ]
        }
      ]
    },
    {
      "cell_type": "code",
      "source": [
        "\n",
        "# Python3 program to illustrate\n",
        "# working of float.as_integer_ratio()\n",
        "  \n",
        "def frac(d):\n",
        "      \n",
        "    # Using as_integer_ratio\n",
        "    b = d.as_integer_ratio() \n",
        "      \n",
        "    return b \n",
        "# Driver code\n",
        "if __name__=='__main__':\n",
        "    b = frac(3.5) \n",
        "    print(b[0], \"/\", b[1])"
      ],
      "metadata": {
        "colab": {
          "base_uri": "https://localhost:8080/"
        },
        "id": "LntGboQnwPYh",
        "outputId": "bf34c2df-148e-44bd-8d90-9052bd928acb"
      },
      "execution_count": 5,
      "outputs": [
        {
          "output_type": "stream",
          "name": "stdout",
          "text": [
            "7 / 2\n"
          ]
        }
      ]
    },
    {
      "cell_type": "code",
      "source": [
        "\n",
        "# Python3 program to illustrate\n",
        "# working of float.is_integer()\n",
        "  \n",
        "def booln():\n",
        "      \n",
        "    # using is_integer\n",
        "    print((-5.0).is_integer())\n",
        "    print((4.8).is_integer())\n",
        "    print(float.is_integer(275.0))\n",
        "  \n",
        "# Driver code\n",
        "if __name__=='__main__':\n",
        "    booln()"
      ],
      "metadata": {
        "colab": {
          "base_uri": "https://localhost:8080/"
        },
        "id": "JwvhajwQwRgj",
        "outputId": "cc7b2c82-1d38-413e-9545-91c22b5d8d96"
      },
      "execution_count": 6,
      "outputs": [
        {
          "output_type": "stream",
          "name": "stdout",
          "text": [
            "True\n",
            "False\n",
            "True\n"
          ]
        }
      ]
    },
    {
      "cell_type": "code",
      "source": [
        "\n",
        "# Python3 program to illustrate\n",
        "# working of float.hex()\n",
        "  \n",
        "def frac(a): \n",
        "      \n",
        "    # using float.hex()\n",
        "    a = float.hex(35.0)\n",
        "      \n",
        "    return a \n",
        "# Driver code\n",
        "if __name__=='__main__':\n",
        "    b = frac(35.0) \n",
        "    print(b)"
      ],
      "metadata": {
        "colab": {
          "base_uri": "https://localhost:8080/"
        },
        "id": "2jj3zW_2wTY2",
        "outputId": "56262b67-9b00-4fa7-a236-700e36017c5b"
      },
      "execution_count": 7,
      "outputs": [
        {
          "output_type": "stream",
          "name": "stdout",
          "text": [
            "0x1.1800000000000p+5\n"
          ]
        }
      ]
    },
    {
      "cell_type": "code",
      "source": [
        "# Python3 program to illustrate\n",
        "# working of float.fromhex()\n",
        "  \n",
        "def frac(a):\n",
        "      \n",
        "    # using a float.fromhex()\n",
        "    a = float.fromhex('0x1.1800000000000p+5')\n",
        "      \n",
        "    return a\n",
        "      \n",
        "# Driver code    \n",
        "if __name__=='__main__':\n",
        "    b = frac('0x1.1800000000000p+5') \n",
        "    print(b)"
      ],
      "metadata": {
        "colab": {
          "base_uri": "https://localhost:8080/"
        },
        "id": "ivG9ARjCwW-L",
        "outputId": "24307ea2-3416-410b-96c6-238e5257cd5c"
      },
      "execution_count": 8,
      "outputs": [
        {
          "output_type": "stream",
          "name": "stdout",
          "text": [
            "35.0\n"
          ]
        }
      ]
    },
    {
      "cell_type": "markdown",
      "source": [
        "# Round Off Errors"
      ],
      "metadata": {
        "id": "8hc26f04woPw"
      }
    },
    {
      "cell_type": "code",
      "source": [
        "print(1.1 * 3) # 3.3000000000000003"
      ],
      "metadata": {
        "colab": {
          "base_uri": "https://localhost:8080/"
        },
        "id": "spFyK4bzwtK2",
        "outputId": "2ca66836-e369-47e6-f583-39e7018cebfb"
      },
      "execution_count": 9,
      "outputs": [
        {
          "output_type": "stream",
          "name": "stdout",
          "text": [
            "3.3000000000000003\n"
          ]
        }
      ]
    },
    {
      "cell_type": "code",
      "source": [
        "from decimal import *"
      ],
      "metadata": {
        "id": "zQjGLDtFxR2P"
      },
      "execution_count": 10,
      "outputs": []
    },
    {
      "cell_type": "code",
      "source": [
        "print(Decimal('1.1') * 3) # 3.3"
      ],
      "metadata": {
        "colab": {
          "base_uri": "https://localhost:8080/"
        },
        "id": "oD-tQv8BxUD2",
        "outputId": "a84254d3-6e2f-4c28-a71d-4c1f60801672"
      },
      "execution_count": 11,
      "outputs": [
        {
          "output_type": "stream",
          "name": "stdout",
          "text": [
            "3.3\n"
          ]
        }
      ]
    },
    {
      "cell_type": "code",
      "source": [
        "print(Decimal(1.1) * 3) # 3.300000000000000266453525910"
      ],
      "metadata": {
        "colab": {
          "base_uri": "https://localhost:8080/"
        },
        "id": "SFYmjDsQxWDX",
        "outputId": "42bebcb8-40fb-41b2-baec-621f33ee3cc2"
      },
      "execution_count": 12,
      "outputs": [
        {
          "output_type": "stream",
          "name": "stdout",
          "text": [
            "3.300000000000000266453525910\n"
          ]
        }
      ]
    },
    {
      "cell_type": "code",
      "source": [
        "a = Decimal('1.123456789')\n",
        "b = a.quantize(Decimal('1.00'))\n",
        "print(b) # 1.12"
      ],
      "metadata": {
        "colab": {
          "base_uri": "https://localhost:8080/"
        },
        "id": "pKKSNLQsx8bL",
        "outputId": "d42155c1-e266-46d0-968f-e84b993356d6"
      },
      "execution_count": 14,
      "outputs": [
        {
          "output_type": "stream",
          "name": "stdout",
          "text": [
            "1.12\n"
          ]
        }
      ]
    },
    {
      "cell_type": "code",
      "source": [
        "from decimal import *\n",
        "print(getcontext())\n",
        "\"\"\"\n",
        "Context(prec=28, rounding=ROUND_HALF_EVEN, Emin=-999999, Emax=999999, capitals=1, clamp=0, flags=[], traps=[InvalidOperation, DivisionByZero, Overflow])\n",
        "\"\"\"\n",
        "print(Decimal(1)/Decimal(3))\n",
        "# 0.3333333333333333333333333333\n",
        "getcontext().prec = 4\n",
        "print(Decimal(1)/Decimal(3))\n",
        "# 0.3333"
      ],
      "metadata": {
        "colab": {
          "base_uri": "https://localhost:8080/"
        },
        "id": "dL8Krk_Tx--r",
        "outputId": "9453e4b8-936c-46bc-83fb-7a39b651dec6"
      },
      "execution_count": 15,
      "outputs": [
        {
          "output_type": "stream",
          "name": "stdout",
          "text": [
            "Context(prec=28, rounding=ROUND_HALF_EVEN, Emin=-999999, Emax=999999, capitals=1, clamp=0, flags=[Inexact, FloatOperation, Rounded], traps=[InvalidOperation, DivisionByZero, Overflow])\n",
            "0.3333333333333333333333333333\n",
            "0.3333\n"
          ]
        }
      ]
    },
    {
      "cell_type": "code",
      "source": [
        "print((-7) % 4) # 1\n",
        "print(7 % (-4)) # -1"
      ],
      "metadata": {
        "colab": {
          "base_uri": "https://localhost:8080/"
        },
        "id": "v3dWPMlzyDbe",
        "outputId": "456a7597-cc5d-41bf-b313-a6a1bf894371"
      },
      "execution_count": 16,
      "outputs": [
        {
          "output_type": "stream",
          "name": "stdout",
          "text": [
            "1\n",
            "-1\n"
          ]
        }
      ]
    },
    {
      "cell_type": "code",
      "source": [
        "print(Decimal(-7) % 4) # -3\n",
        "print(7 % Decimal(-4)) # 3"
      ],
      "metadata": {
        "colab": {
          "base_uri": "https://localhost:8080/"
        },
        "id": "7MMD9mdiyFUY",
        "outputId": "e0d82dec-e9ad-4ec7-e1c8-ea2c0c94724c"
      },
      "execution_count": 17,
      "outputs": [
        {
          "output_type": "stream",
          "name": "stdout",
          "text": [
            "-3\n",
            "3\n"
          ]
        }
      ]
    }
  ]
}